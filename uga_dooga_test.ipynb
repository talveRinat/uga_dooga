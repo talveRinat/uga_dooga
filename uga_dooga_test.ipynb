{
  "nbformat": 4,
  "nbformat_minor": 0,
  "metadata": {
    "colab": {
      "name": "uga_dooga_test.ipynb",
      "provenance": [],
      "collapsed_sections": [],
      "toc_visible": true
    },
    "kernelspec": {
      "name": "python3",
      "display_name": "Python 3"
    },
    "language_info": {
      "name": "python"
    }
  },
  "cells": [
    {
      "cell_type": "markdown",
      "source": [
        "# Загрзука бибилиотек и данных \n"
      ],
      "metadata": {
        "id": "x05BmzgcqFDB"
      }
    },
    {
      "cell_type": "code",
      "execution_count": 1,
      "metadata": {
        "id": "5DB9VK7FYpC8"
      },
      "outputs": [],
      "source": [
        "import numpy as np\n",
        "import pandas as pd\n",
        "import json\n",
        "import seaborn as sns\n",
        "import matplotlib.pyplot as plt"
      ]
    },
    {
      "cell_type": "code",
      "source": [
        "from google.colab import drive\n",
        "drive.mount('/content/drive')"
      ],
      "metadata": {
        "colab": {
          "base_uri": "https://localhost:8080/"
        },
        "id": "-vBV96gbahc5",
        "outputId": "38d952dc-bd88-4fb2-a2e4-40255d4db1dc"
      },
      "execution_count": 2,
      "outputs": [
        {
          "output_type": "stream",
          "name": "stdout",
          "text": [
            "Mounted at /content/drive\n"
          ]
        }
      ]
    },
    {
      "cell_type": "code",
      "source": [
        "df = pd.read_csv('drive/MyDrive/us events ad_revenue filtered 03.02-07.02.csv')"
      ],
      "metadata": {
        "id": "9utzEgsfahho"
      },
      "execution_count": 3,
      "outputs": []
    },
    {
      "cell_type": "markdown",
      "source": [
        "# Развед данных"
      ],
      "metadata": {
        "id": "6tAEVfTKqM65"
      }
    },
    {
      "cell_type": "code",
      "source": [
        "df.head()"
      ],
      "metadata": {
        "colab": {
          "base_uri": "https://localhost:8080/",
          "height": 353
        },
        "id": "sTlapwV-ahn-",
        "outputId": "d6e0d102-51cc-4417-98f5-804fec8a2f21"
      },
      "execution_count": 4,
      "outputs": [
        {
          "output_type": "execute_result",
          "data": {
            "text/plain": [
              "    profile_id os_version device_manufacturer   device_model device_type  \\\n",
              "0  JLjpGzDHBQm         11             Samsung  Galaxy Tab S6      tablet   \n",
              "1  JLjpGzDHBQm         11             Samsung  Galaxy Tab S6      tablet   \n",
              "2  JLkVacrzHY6         11              Google        Pixel 2       phone   \n",
              "3  JMC6wG3cX0f         10             Samsung      Galaxy S9       phone   \n",
              "4  JLzWWTJfi1b         10             Samsung      Galaxy S9       phone   \n",
              "\n",
              "  device_locale    event_name  \\\n",
              "0         en_US  c_ad_revenue   \n",
              "1         en_US  c_ad_revenue   \n",
              "2         en_US  c_ad_revenue   \n",
              "3         en_US  c_ad_revenue   \n",
              "4         en_US  c_ad_revenue   \n",
              "\n",
              "                                          event_json       event_datetime  \\\n",
              "0  {\"ad_type\":\"banner\",\"placement\":\"\",\"view_index...  2022-02-04 20:02:28   \n",
              "1  {\"ad_type\":\"banner\",\"placement\":\"\",\"view_index...  2022-02-04 20:02:45   \n",
              "2  {\"ad_type\":\"banner\",\"placement\":\"\",\"view_index...  2022-02-05 17:53:05   \n",
              "3  {\"ad_type\":\"int\",\"placement\":\"next_level\",\"vie...  2022-02-06 17:09:01   \n",
              "4  {\"ad_type\":\"banner\",\"placement\":\"\",\"view_index...  2022-02-06 17:15:38   \n",
              "\n",
              "   event_timestamp event_receive_datetime  event_receive_timestamp  \\\n",
              "0       1643994148    2022-02-06 17:58:19               1644159499   \n",
              "1       1643994165    2022-02-06 17:58:19               1644159499   \n",
              "2       1644072785    2022-02-06 16:59:29               1644155969   \n",
              "3       1644156541    2022-02-06 17:09:24               1644156564   \n",
              "4       1644156938    2022-02-06 17:16:16               1644156976   \n",
              "\n",
              "  connection_type operator_name country_iso_code       city  \n",
              "0            wifi           NaN               US    Norwalk  \n",
              "1            wifi           NaN               US    Norwalk  \n",
              "2            wifi       Verizon               US  Charlotte  \n",
              "3            wifi      T-Mobile               US      Cocoa  \n",
              "4            cell      Verizon                US        NaN  "
            ],
            "text/html": [
              "\n",
              "  <div id=\"df-777dc624-80a0-474a-b665-aa5a600a7f01\">\n",
              "    <div class=\"colab-df-container\">\n",
              "      <div>\n",
              "<style scoped>\n",
              "    .dataframe tbody tr th:only-of-type {\n",
              "        vertical-align: middle;\n",
              "    }\n",
              "\n",
              "    .dataframe tbody tr th {\n",
              "        vertical-align: top;\n",
              "    }\n",
              "\n",
              "    .dataframe thead th {\n",
              "        text-align: right;\n",
              "    }\n",
              "</style>\n",
              "<table border=\"1\" class=\"dataframe\">\n",
              "  <thead>\n",
              "    <tr style=\"text-align: right;\">\n",
              "      <th></th>\n",
              "      <th>profile_id</th>\n",
              "      <th>os_version</th>\n",
              "      <th>device_manufacturer</th>\n",
              "      <th>device_model</th>\n",
              "      <th>device_type</th>\n",
              "      <th>device_locale</th>\n",
              "      <th>event_name</th>\n",
              "      <th>event_json</th>\n",
              "      <th>event_datetime</th>\n",
              "      <th>event_timestamp</th>\n",
              "      <th>event_receive_datetime</th>\n",
              "      <th>event_receive_timestamp</th>\n",
              "      <th>connection_type</th>\n",
              "      <th>operator_name</th>\n",
              "      <th>country_iso_code</th>\n",
              "      <th>city</th>\n",
              "    </tr>\n",
              "  </thead>\n",
              "  <tbody>\n",
              "    <tr>\n",
              "      <th>0</th>\n",
              "      <td>JLjpGzDHBQm</td>\n",
              "      <td>11</td>\n",
              "      <td>Samsung</td>\n",
              "      <td>Galaxy Tab S6</td>\n",
              "      <td>tablet</td>\n",
              "      <td>en_US</td>\n",
              "      <td>c_ad_revenue</td>\n",
              "      <td>{\"ad_type\":\"banner\",\"placement\":\"\",\"view_index...</td>\n",
              "      <td>2022-02-04 20:02:28</td>\n",
              "      <td>1643994148</td>\n",
              "      <td>2022-02-06 17:58:19</td>\n",
              "      <td>1644159499</td>\n",
              "      <td>wifi</td>\n",
              "      <td>NaN</td>\n",
              "      <td>US</td>\n",
              "      <td>Norwalk</td>\n",
              "    </tr>\n",
              "    <tr>\n",
              "      <th>1</th>\n",
              "      <td>JLjpGzDHBQm</td>\n",
              "      <td>11</td>\n",
              "      <td>Samsung</td>\n",
              "      <td>Galaxy Tab S6</td>\n",
              "      <td>tablet</td>\n",
              "      <td>en_US</td>\n",
              "      <td>c_ad_revenue</td>\n",
              "      <td>{\"ad_type\":\"banner\",\"placement\":\"\",\"view_index...</td>\n",
              "      <td>2022-02-04 20:02:45</td>\n",
              "      <td>1643994165</td>\n",
              "      <td>2022-02-06 17:58:19</td>\n",
              "      <td>1644159499</td>\n",
              "      <td>wifi</td>\n",
              "      <td>NaN</td>\n",
              "      <td>US</td>\n",
              "      <td>Norwalk</td>\n",
              "    </tr>\n",
              "    <tr>\n",
              "      <th>2</th>\n",
              "      <td>JLkVacrzHY6</td>\n",
              "      <td>11</td>\n",
              "      <td>Google</td>\n",
              "      <td>Pixel 2</td>\n",
              "      <td>phone</td>\n",
              "      <td>en_US</td>\n",
              "      <td>c_ad_revenue</td>\n",
              "      <td>{\"ad_type\":\"banner\",\"placement\":\"\",\"view_index...</td>\n",
              "      <td>2022-02-05 17:53:05</td>\n",
              "      <td>1644072785</td>\n",
              "      <td>2022-02-06 16:59:29</td>\n",
              "      <td>1644155969</td>\n",
              "      <td>wifi</td>\n",
              "      <td>Verizon</td>\n",
              "      <td>US</td>\n",
              "      <td>Charlotte</td>\n",
              "    </tr>\n",
              "    <tr>\n",
              "      <th>3</th>\n",
              "      <td>JMC6wG3cX0f</td>\n",
              "      <td>10</td>\n",
              "      <td>Samsung</td>\n",
              "      <td>Galaxy S9</td>\n",
              "      <td>phone</td>\n",
              "      <td>en_US</td>\n",
              "      <td>c_ad_revenue</td>\n",
              "      <td>{\"ad_type\":\"int\",\"placement\":\"next_level\",\"vie...</td>\n",
              "      <td>2022-02-06 17:09:01</td>\n",
              "      <td>1644156541</td>\n",
              "      <td>2022-02-06 17:09:24</td>\n",
              "      <td>1644156564</td>\n",
              "      <td>wifi</td>\n",
              "      <td>T-Mobile</td>\n",
              "      <td>US</td>\n",
              "      <td>Cocoa</td>\n",
              "    </tr>\n",
              "    <tr>\n",
              "      <th>4</th>\n",
              "      <td>JLzWWTJfi1b</td>\n",
              "      <td>10</td>\n",
              "      <td>Samsung</td>\n",
              "      <td>Galaxy S9</td>\n",
              "      <td>phone</td>\n",
              "      <td>en_US</td>\n",
              "      <td>c_ad_revenue</td>\n",
              "      <td>{\"ad_type\":\"banner\",\"placement\":\"\",\"view_index...</td>\n",
              "      <td>2022-02-06 17:15:38</td>\n",
              "      <td>1644156938</td>\n",
              "      <td>2022-02-06 17:16:16</td>\n",
              "      <td>1644156976</td>\n",
              "      <td>cell</td>\n",
              "      <td>Verizon</td>\n",
              "      <td>US</td>\n",
              "      <td>NaN</td>\n",
              "    </tr>\n",
              "  </tbody>\n",
              "</table>\n",
              "</div>\n",
              "      <button class=\"colab-df-convert\" onclick=\"convertToInteractive('df-777dc624-80a0-474a-b665-aa5a600a7f01')\"\n",
              "              title=\"Convert this dataframe to an interactive table.\"\n",
              "              style=\"display:none;\">\n",
              "        \n",
              "  <svg xmlns=\"http://www.w3.org/2000/svg\" height=\"24px\"viewBox=\"0 0 24 24\"\n",
              "       width=\"24px\">\n",
              "    <path d=\"M0 0h24v24H0V0z\" fill=\"none\"/>\n",
              "    <path d=\"M18.56 5.44l.94 2.06.94-2.06 2.06-.94-2.06-.94-.94-2.06-.94 2.06-2.06.94zm-11 1L8.5 8.5l.94-2.06 2.06-.94-2.06-.94L8.5 2.5l-.94 2.06-2.06.94zm10 10l.94 2.06.94-2.06 2.06-.94-2.06-.94-.94-2.06-.94 2.06-2.06.94z\"/><path d=\"M17.41 7.96l-1.37-1.37c-.4-.4-.92-.59-1.43-.59-.52 0-1.04.2-1.43.59L10.3 9.45l-7.72 7.72c-.78.78-.78 2.05 0 2.83L4 21.41c.39.39.9.59 1.41.59.51 0 1.02-.2 1.41-.59l7.78-7.78 2.81-2.81c.8-.78.8-2.07 0-2.86zM5.41 20L4 18.59l7.72-7.72 1.47 1.35L5.41 20z\"/>\n",
              "  </svg>\n",
              "      </button>\n",
              "      \n",
              "  <style>\n",
              "    .colab-df-container {\n",
              "      display:flex;\n",
              "      flex-wrap:wrap;\n",
              "      gap: 12px;\n",
              "    }\n",
              "\n",
              "    .colab-df-convert {\n",
              "      background-color: #E8F0FE;\n",
              "      border: none;\n",
              "      border-radius: 50%;\n",
              "      cursor: pointer;\n",
              "      display: none;\n",
              "      fill: #1967D2;\n",
              "      height: 32px;\n",
              "      padding: 0 0 0 0;\n",
              "      width: 32px;\n",
              "    }\n",
              "\n",
              "    .colab-df-convert:hover {\n",
              "      background-color: #E2EBFA;\n",
              "      box-shadow: 0px 1px 2px rgba(60, 64, 67, 0.3), 0px 1px 3px 1px rgba(60, 64, 67, 0.15);\n",
              "      fill: #174EA6;\n",
              "    }\n",
              "\n",
              "    [theme=dark] .colab-df-convert {\n",
              "      background-color: #3B4455;\n",
              "      fill: #D2E3FC;\n",
              "    }\n",
              "\n",
              "    [theme=dark] .colab-df-convert:hover {\n",
              "      background-color: #434B5C;\n",
              "      box-shadow: 0px 1px 3px 1px rgba(0, 0, 0, 0.15);\n",
              "      filter: drop-shadow(0px 1px 2px rgba(0, 0, 0, 0.3));\n",
              "      fill: #FFFFFF;\n",
              "    }\n",
              "  </style>\n",
              "\n",
              "      <script>\n",
              "        const buttonEl =\n",
              "          document.querySelector('#df-777dc624-80a0-474a-b665-aa5a600a7f01 button.colab-df-convert');\n",
              "        buttonEl.style.display =\n",
              "          google.colab.kernel.accessAllowed ? 'block' : 'none';\n",
              "\n",
              "        async function convertToInteractive(key) {\n",
              "          const element = document.querySelector('#df-777dc624-80a0-474a-b665-aa5a600a7f01');\n",
              "          const dataTable =\n",
              "            await google.colab.kernel.invokeFunction('convertToInteractive',\n",
              "                                                     [key], {});\n",
              "          if (!dataTable) return;\n",
              "\n",
              "          const docLinkHtml = 'Like what you see? Visit the ' +\n",
              "            '<a target=\"_blank\" href=https://colab.research.google.com/notebooks/data_table.ipynb>data table notebook</a>'\n",
              "            + ' to learn more about interactive tables.';\n",
              "          element.innerHTML = '';\n",
              "          dataTable['output_type'] = 'display_data';\n",
              "          await google.colab.output.renderOutput(dataTable, element);\n",
              "          const docLink = document.createElement('div');\n",
              "          docLink.innerHTML = docLinkHtml;\n",
              "          element.appendChild(docLink);\n",
              "        }\n",
              "      </script>\n",
              "    </div>\n",
              "  </div>\n",
              "  "
            ]
          },
          "metadata": {},
          "execution_count": 4
        }
      ]
    },
    {
      "cell_type": "code",
      "source": [
        "df.info()"
      ],
      "metadata": {
        "colab": {
          "base_uri": "https://localhost:8080/"
        },
        "id": "9tIp-n74ahsJ",
        "outputId": "6a94d51d-1a7e-45ec-e773-3de13dbb3597"
      },
      "execution_count": 5,
      "outputs": [
        {
          "output_type": "stream",
          "name": "stdout",
          "text": [
            "<class 'pandas.core.frame.DataFrame'>\n",
            "RangeIndex: 860079 entries, 0 to 860078\n",
            "Data columns (total 16 columns):\n",
            " #   Column                   Non-Null Count   Dtype \n",
            "---  ------                   --------------   ----- \n",
            " 0   profile_id               860065 non-null  object\n",
            " 1   os_version               860079 non-null  object\n",
            " 2   device_manufacturer      860079 non-null  object\n",
            " 3   device_model             860079 non-null  object\n",
            " 4   device_type              860079 non-null  object\n",
            " 5   device_locale            860079 non-null  object\n",
            " 6   event_name               860079 non-null  object\n",
            " 7   event_json               860079 non-null  object\n",
            " 8   event_datetime           860079 non-null  object\n",
            " 9   event_timestamp          860079 non-null  int64 \n",
            " 10  event_receive_datetime   860079 non-null  object\n",
            " 11  event_receive_timestamp  860079 non-null  int64 \n",
            " 12  connection_type          860079 non-null  object\n",
            " 13  operator_name            841200 non-null  object\n",
            " 14  country_iso_code         860079 non-null  object\n",
            " 15  city                     536371 non-null  object\n",
            "dtypes: int64(2), object(14)\n",
            "memory usage: 105.0+ MB\n"
          ]
        }
      ]
    },
    {
      "cell_type": "markdown",
      "source": [
        "Посмотрим на пропущенные строчки в столбце `profile_id`"
      ],
      "metadata": {
        "id": "_EgxIsSIqSUA"
      }
    },
    {
      "cell_type": "code",
      "source": [
        "df[df['profile_id'].isnull()]"
      ],
      "metadata": {
        "colab": {
          "base_uri": "https://localhost:8080/",
          "height": 785
        },
        "id": "CJ4VGexunFuL",
        "outputId": "12d0151d-9caf-4e00-b090-8c7efb89c96b"
      },
      "execution_count": 6,
      "outputs": [
        {
          "output_type": "execute_result",
          "data": {
            "text/plain": [
              "       profile_id os_version device_manufacturer     device_model device_type  \\\n",
              "191509        NaN         11             Samsung      Galaxy A10e       phone   \n",
              "191510        NaN         11             Samsung      Galaxy A10e       phone   \n",
              "191511        NaN         11             Samsung      Galaxy A10e       phone   \n",
              "191512        NaN         11             Samsung      Galaxy A10e       phone   \n",
              "191513        NaN         11             Samsung      Galaxy A10e       phone   \n",
              "191514        NaN         11             Samsung      Galaxy A10e       phone   \n",
              "191515        NaN         11             Samsung      Galaxy A10e       phone   \n",
              "191516        NaN         11             Samsung      Galaxy A10e       phone   \n",
              "191517        NaN         11             Samsung      Galaxy A10e       phone   \n",
              "191518        NaN         11             Samsung      Galaxy A10e       phone   \n",
              "191519        NaN         11             Samsung      Galaxy A10e       phone   \n",
              "191520        NaN         11             Samsung      Galaxy A10e       phone   \n",
              "191521        NaN         11             Samsung      Galaxy A10e       phone   \n",
              "257210        NaN         11            Motorola  moto g(8) power       phone   \n",
              "\n",
              "       device_locale    event_name  \\\n",
              "191509         en_US  c_ad_revenue   \n",
              "191510         en_US  c_ad_revenue   \n",
              "191511         en_US  c_ad_revenue   \n",
              "191512         en_US  c_ad_revenue   \n",
              "191513         en_US  c_ad_revenue   \n",
              "191514         en_US  c_ad_revenue   \n",
              "191515         en_US  c_ad_revenue   \n",
              "191516         en_US  c_ad_revenue   \n",
              "191517         en_US  c_ad_revenue   \n",
              "191518         en_US  c_ad_revenue   \n",
              "191519         en_US  c_ad_revenue   \n",
              "191520         en_US  c_ad_revenue   \n",
              "191521         en_US  c_ad_revenue   \n",
              "257210         en_US  c_ad_revenue   \n",
              "\n",
              "                                               event_json  \\\n",
              "191509  {\"ad_type\":\"int\",\"placement\":\"next_level\",\"vie...   \n",
              "191510  {\"ad_type\":\"banner\",\"placement\":\"\",\"view_index...   \n",
              "191511  {\"ad_type\":\"int\",\"placement\":\"next_level\",\"vie...   \n",
              "191512  {\"ad_type\":\"banner\",\"placement\":\"\",\"view_index...   \n",
              "191513  {\"ad_type\":\"banner\",\"placement\":\"\",\"view_index...   \n",
              "191514  {\"ad_type\":\"banner\",\"placement\":\"\",\"view_index...   \n",
              "191515  {\"ad_type\":\"banner\",\"placement\":\"\",\"view_index...   \n",
              "191516  {\"ad_type\":\"banner\",\"placement\":\"\",\"view_index...   \n",
              "191517  {\"ad_type\":\"banner\",\"placement\":\"\",\"view_index...   \n",
              "191518  {\"ad_type\":\"banner\",\"placement\":\"\",\"view_index...   \n",
              "191519  {\"ad_type\":\"banner\",\"placement\":\"\",\"view_index...   \n",
              "191520  {\"ad_type\":\"banner\",\"placement\":\"\",\"view_index...   \n",
              "191521  {\"ad_type\":\"banner\",\"placement\":\"\",\"view_index...   \n",
              "257210  {\"ad_type\":\"int\",\"placement\":\"next_level\",\"vie...   \n",
              "\n",
              "             event_datetime  event_timestamp event_receive_datetime  \\\n",
              "191509  2022-02-06 21:07:27       1644170847    2022-02-06 21:07:41   \n",
              "191510  2022-02-06 21:08:27       1644170907    2022-02-06 21:09:47   \n",
              "191511  2022-02-06 21:12:38       1644171158    2022-02-06 21:13:25   \n",
              "191512  2022-02-06 21:13:41       1644171221    2022-02-06 21:16:10   \n",
              "191513  2022-02-06 21:14:12       1644171252    2022-02-06 21:16:10   \n",
              "191514  2022-02-06 21:15:28       1644171328    2022-02-06 21:16:10   \n",
              "191515  2022-02-06 21:17:22       1644171442    2022-02-06 21:17:42   \n",
              "191516  2022-02-06 21:17:36       1644171456    2022-02-06 21:17:42   \n",
              "191517  2022-02-06 21:18:08       1644171488    2022-02-06 21:18:42   \n",
              "191518  2022-02-06 21:18:23       1644171503    2022-02-06 21:18:42   \n",
              "191519  2022-02-06 21:18:38       1644171518    2022-02-06 21:18:42   \n",
              "191520  2022-02-06 21:16:34       1644171394    2022-02-06 21:17:42   \n",
              "191521  2022-02-06 21:17:06       1644171426    2022-02-06 21:17:42   \n",
              "257210  2022-02-05 08:27:54       1644038874    2022-02-05 08:28:29   \n",
              "\n",
              "        event_receive_timestamp connection_type operator_name  \\\n",
              "191509               1644170861            wifi          AT&T   \n",
              "191510               1644170987            wifi          AT&T   \n",
              "191511               1644171205            wifi          AT&T   \n",
              "191512               1644171370            wifi          AT&T   \n",
              "191513               1644171370            wifi          AT&T   \n",
              "191514               1644171370            wifi          AT&T   \n",
              "191515               1644171462            wifi          AT&T   \n",
              "191516               1644171462            wifi          AT&T   \n",
              "191517               1644171522            wifi          AT&T   \n",
              "191518               1644171522            wifi          AT&T   \n",
              "191519               1644171522            wifi          AT&T   \n",
              "191520               1644171462            wifi          AT&T   \n",
              "191521               1644171462            wifi          AT&T   \n",
              "257210               1644038909            wifi          AT&T   \n",
              "\n",
              "       country_iso_code city  \n",
              "191509               US  NaN  \n",
              "191510               US  NaN  \n",
              "191511               US  NaN  \n",
              "191512               US  NaN  \n",
              "191513               US  NaN  \n",
              "191514               US  NaN  \n",
              "191515               US  NaN  \n",
              "191516               US  NaN  \n",
              "191517               US  NaN  \n",
              "191518               US  NaN  \n",
              "191519               US  NaN  \n",
              "191520               US  NaN  \n",
              "191521               US  NaN  \n",
              "257210               US  NaN  "
            ],
            "text/html": [
              "\n",
              "  <div id=\"df-aa5b70ae-7fe6-4934-9718-6e1931fc0013\">\n",
              "    <div class=\"colab-df-container\">\n",
              "      <div>\n",
              "<style scoped>\n",
              "    .dataframe tbody tr th:only-of-type {\n",
              "        vertical-align: middle;\n",
              "    }\n",
              "\n",
              "    .dataframe tbody tr th {\n",
              "        vertical-align: top;\n",
              "    }\n",
              "\n",
              "    .dataframe thead th {\n",
              "        text-align: right;\n",
              "    }\n",
              "</style>\n",
              "<table border=\"1\" class=\"dataframe\">\n",
              "  <thead>\n",
              "    <tr style=\"text-align: right;\">\n",
              "      <th></th>\n",
              "      <th>profile_id</th>\n",
              "      <th>os_version</th>\n",
              "      <th>device_manufacturer</th>\n",
              "      <th>device_model</th>\n",
              "      <th>device_type</th>\n",
              "      <th>device_locale</th>\n",
              "      <th>event_name</th>\n",
              "      <th>event_json</th>\n",
              "      <th>event_datetime</th>\n",
              "      <th>event_timestamp</th>\n",
              "      <th>event_receive_datetime</th>\n",
              "      <th>event_receive_timestamp</th>\n",
              "      <th>connection_type</th>\n",
              "      <th>operator_name</th>\n",
              "      <th>country_iso_code</th>\n",
              "      <th>city</th>\n",
              "    </tr>\n",
              "  </thead>\n",
              "  <tbody>\n",
              "    <tr>\n",
              "      <th>191509</th>\n",
              "      <td>NaN</td>\n",
              "      <td>11</td>\n",
              "      <td>Samsung</td>\n",
              "      <td>Galaxy A10e</td>\n",
              "      <td>phone</td>\n",
              "      <td>en_US</td>\n",
              "      <td>c_ad_revenue</td>\n",
              "      <td>{\"ad_type\":\"int\",\"placement\":\"next_level\",\"vie...</td>\n",
              "      <td>2022-02-06 21:07:27</td>\n",
              "      <td>1644170847</td>\n",
              "      <td>2022-02-06 21:07:41</td>\n",
              "      <td>1644170861</td>\n",
              "      <td>wifi</td>\n",
              "      <td>AT&amp;T</td>\n",
              "      <td>US</td>\n",
              "      <td>NaN</td>\n",
              "    </tr>\n",
              "    <tr>\n",
              "      <th>191510</th>\n",
              "      <td>NaN</td>\n",
              "      <td>11</td>\n",
              "      <td>Samsung</td>\n",
              "      <td>Galaxy A10e</td>\n",
              "      <td>phone</td>\n",
              "      <td>en_US</td>\n",
              "      <td>c_ad_revenue</td>\n",
              "      <td>{\"ad_type\":\"banner\",\"placement\":\"\",\"view_index...</td>\n",
              "      <td>2022-02-06 21:08:27</td>\n",
              "      <td>1644170907</td>\n",
              "      <td>2022-02-06 21:09:47</td>\n",
              "      <td>1644170987</td>\n",
              "      <td>wifi</td>\n",
              "      <td>AT&amp;T</td>\n",
              "      <td>US</td>\n",
              "      <td>NaN</td>\n",
              "    </tr>\n",
              "    <tr>\n",
              "      <th>191511</th>\n",
              "      <td>NaN</td>\n",
              "      <td>11</td>\n",
              "      <td>Samsung</td>\n",
              "      <td>Galaxy A10e</td>\n",
              "      <td>phone</td>\n",
              "      <td>en_US</td>\n",
              "      <td>c_ad_revenue</td>\n",
              "      <td>{\"ad_type\":\"int\",\"placement\":\"next_level\",\"vie...</td>\n",
              "      <td>2022-02-06 21:12:38</td>\n",
              "      <td>1644171158</td>\n",
              "      <td>2022-02-06 21:13:25</td>\n",
              "      <td>1644171205</td>\n",
              "      <td>wifi</td>\n",
              "      <td>AT&amp;T</td>\n",
              "      <td>US</td>\n",
              "      <td>NaN</td>\n",
              "    </tr>\n",
              "    <tr>\n",
              "      <th>191512</th>\n",
              "      <td>NaN</td>\n",
              "      <td>11</td>\n",
              "      <td>Samsung</td>\n",
              "      <td>Galaxy A10e</td>\n",
              "      <td>phone</td>\n",
              "      <td>en_US</td>\n",
              "      <td>c_ad_revenue</td>\n",
              "      <td>{\"ad_type\":\"banner\",\"placement\":\"\",\"view_index...</td>\n",
              "      <td>2022-02-06 21:13:41</td>\n",
              "      <td>1644171221</td>\n",
              "      <td>2022-02-06 21:16:10</td>\n",
              "      <td>1644171370</td>\n",
              "      <td>wifi</td>\n",
              "      <td>AT&amp;T</td>\n",
              "      <td>US</td>\n",
              "      <td>NaN</td>\n",
              "    </tr>\n",
              "    <tr>\n",
              "      <th>191513</th>\n",
              "      <td>NaN</td>\n",
              "      <td>11</td>\n",
              "      <td>Samsung</td>\n",
              "      <td>Galaxy A10e</td>\n",
              "      <td>phone</td>\n",
              "      <td>en_US</td>\n",
              "      <td>c_ad_revenue</td>\n",
              "      <td>{\"ad_type\":\"banner\",\"placement\":\"\",\"view_index...</td>\n",
              "      <td>2022-02-06 21:14:12</td>\n",
              "      <td>1644171252</td>\n",
              "      <td>2022-02-06 21:16:10</td>\n",
              "      <td>1644171370</td>\n",
              "      <td>wifi</td>\n",
              "      <td>AT&amp;T</td>\n",
              "      <td>US</td>\n",
              "      <td>NaN</td>\n",
              "    </tr>\n",
              "    <tr>\n",
              "      <th>191514</th>\n",
              "      <td>NaN</td>\n",
              "      <td>11</td>\n",
              "      <td>Samsung</td>\n",
              "      <td>Galaxy A10e</td>\n",
              "      <td>phone</td>\n",
              "      <td>en_US</td>\n",
              "      <td>c_ad_revenue</td>\n",
              "      <td>{\"ad_type\":\"banner\",\"placement\":\"\",\"view_index...</td>\n",
              "      <td>2022-02-06 21:15:28</td>\n",
              "      <td>1644171328</td>\n",
              "      <td>2022-02-06 21:16:10</td>\n",
              "      <td>1644171370</td>\n",
              "      <td>wifi</td>\n",
              "      <td>AT&amp;T</td>\n",
              "      <td>US</td>\n",
              "      <td>NaN</td>\n",
              "    </tr>\n",
              "    <tr>\n",
              "      <th>191515</th>\n",
              "      <td>NaN</td>\n",
              "      <td>11</td>\n",
              "      <td>Samsung</td>\n",
              "      <td>Galaxy A10e</td>\n",
              "      <td>phone</td>\n",
              "      <td>en_US</td>\n",
              "      <td>c_ad_revenue</td>\n",
              "      <td>{\"ad_type\":\"banner\",\"placement\":\"\",\"view_index...</td>\n",
              "      <td>2022-02-06 21:17:22</td>\n",
              "      <td>1644171442</td>\n",
              "      <td>2022-02-06 21:17:42</td>\n",
              "      <td>1644171462</td>\n",
              "      <td>wifi</td>\n",
              "      <td>AT&amp;T</td>\n",
              "      <td>US</td>\n",
              "      <td>NaN</td>\n",
              "    </tr>\n",
              "    <tr>\n",
              "      <th>191516</th>\n",
              "      <td>NaN</td>\n",
              "      <td>11</td>\n",
              "      <td>Samsung</td>\n",
              "      <td>Galaxy A10e</td>\n",
              "      <td>phone</td>\n",
              "      <td>en_US</td>\n",
              "      <td>c_ad_revenue</td>\n",
              "      <td>{\"ad_type\":\"banner\",\"placement\":\"\",\"view_index...</td>\n",
              "      <td>2022-02-06 21:17:36</td>\n",
              "      <td>1644171456</td>\n",
              "      <td>2022-02-06 21:17:42</td>\n",
              "      <td>1644171462</td>\n",
              "      <td>wifi</td>\n",
              "      <td>AT&amp;T</td>\n",
              "      <td>US</td>\n",
              "      <td>NaN</td>\n",
              "    </tr>\n",
              "    <tr>\n",
              "      <th>191517</th>\n",
              "      <td>NaN</td>\n",
              "      <td>11</td>\n",
              "      <td>Samsung</td>\n",
              "      <td>Galaxy A10e</td>\n",
              "      <td>phone</td>\n",
              "      <td>en_US</td>\n",
              "      <td>c_ad_revenue</td>\n",
              "      <td>{\"ad_type\":\"banner\",\"placement\":\"\",\"view_index...</td>\n",
              "      <td>2022-02-06 21:18:08</td>\n",
              "      <td>1644171488</td>\n",
              "      <td>2022-02-06 21:18:42</td>\n",
              "      <td>1644171522</td>\n",
              "      <td>wifi</td>\n",
              "      <td>AT&amp;T</td>\n",
              "      <td>US</td>\n",
              "      <td>NaN</td>\n",
              "    </tr>\n",
              "    <tr>\n",
              "      <th>191518</th>\n",
              "      <td>NaN</td>\n",
              "      <td>11</td>\n",
              "      <td>Samsung</td>\n",
              "      <td>Galaxy A10e</td>\n",
              "      <td>phone</td>\n",
              "      <td>en_US</td>\n",
              "      <td>c_ad_revenue</td>\n",
              "      <td>{\"ad_type\":\"banner\",\"placement\":\"\",\"view_index...</td>\n",
              "      <td>2022-02-06 21:18:23</td>\n",
              "      <td>1644171503</td>\n",
              "      <td>2022-02-06 21:18:42</td>\n",
              "      <td>1644171522</td>\n",
              "      <td>wifi</td>\n",
              "      <td>AT&amp;T</td>\n",
              "      <td>US</td>\n",
              "      <td>NaN</td>\n",
              "    </tr>\n",
              "    <tr>\n",
              "      <th>191519</th>\n",
              "      <td>NaN</td>\n",
              "      <td>11</td>\n",
              "      <td>Samsung</td>\n",
              "      <td>Galaxy A10e</td>\n",
              "      <td>phone</td>\n",
              "      <td>en_US</td>\n",
              "      <td>c_ad_revenue</td>\n",
              "      <td>{\"ad_type\":\"banner\",\"placement\":\"\",\"view_index...</td>\n",
              "      <td>2022-02-06 21:18:38</td>\n",
              "      <td>1644171518</td>\n",
              "      <td>2022-02-06 21:18:42</td>\n",
              "      <td>1644171522</td>\n",
              "      <td>wifi</td>\n",
              "      <td>AT&amp;T</td>\n",
              "      <td>US</td>\n",
              "      <td>NaN</td>\n",
              "    </tr>\n",
              "    <tr>\n",
              "      <th>191520</th>\n",
              "      <td>NaN</td>\n",
              "      <td>11</td>\n",
              "      <td>Samsung</td>\n",
              "      <td>Galaxy A10e</td>\n",
              "      <td>phone</td>\n",
              "      <td>en_US</td>\n",
              "      <td>c_ad_revenue</td>\n",
              "      <td>{\"ad_type\":\"banner\",\"placement\":\"\",\"view_index...</td>\n",
              "      <td>2022-02-06 21:16:34</td>\n",
              "      <td>1644171394</td>\n",
              "      <td>2022-02-06 21:17:42</td>\n",
              "      <td>1644171462</td>\n",
              "      <td>wifi</td>\n",
              "      <td>AT&amp;T</td>\n",
              "      <td>US</td>\n",
              "      <td>NaN</td>\n",
              "    </tr>\n",
              "    <tr>\n",
              "      <th>191521</th>\n",
              "      <td>NaN</td>\n",
              "      <td>11</td>\n",
              "      <td>Samsung</td>\n",
              "      <td>Galaxy A10e</td>\n",
              "      <td>phone</td>\n",
              "      <td>en_US</td>\n",
              "      <td>c_ad_revenue</td>\n",
              "      <td>{\"ad_type\":\"banner\",\"placement\":\"\",\"view_index...</td>\n",
              "      <td>2022-02-06 21:17:06</td>\n",
              "      <td>1644171426</td>\n",
              "      <td>2022-02-06 21:17:42</td>\n",
              "      <td>1644171462</td>\n",
              "      <td>wifi</td>\n",
              "      <td>AT&amp;T</td>\n",
              "      <td>US</td>\n",
              "      <td>NaN</td>\n",
              "    </tr>\n",
              "    <tr>\n",
              "      <th>257210</th>\n",
              "      <td>NaN</td>\n",
              "      <td>11</td>\n",
              "      <td>Motorola</td>\n",
              "      <td>moto g(8) power</td>\n",
              "      <td>phone</td>\n",
              "      <td>en_US</td>\n",
              "      <td>c_ad_revenue</td>\n",
              "      <td>{\"ad_type\":\"int\",\"placement\":\"next_level\",\"vie...</td>\n",
              "      <td>2022-02-05 08:27:54</td>\n",
              "      <td>1644038874</td>\n",
              "      <td>2022-02-05 08:28:29</td>\n",
              "      <td>1644038909</td>\n",
              "      <td>wifi</td>\n",
              "      <td>AT&amp;T</td>\n",
              "      <td>US</td>\n",
              "      <td>NaN</td>\n",
              "    </tr>\n",
              "  </tbody>\n",
              "</table>\n",
              "</div>\n",
              "      <button class=\"colab-df-convert\" onclick=\"convertToInteractive('df-aa5b70ae-7fe6-4934-9718-6e1931fc0013')\"\n",
              "              title=\"Convert this dataframe to an interactive table.\"\n",
              "              style=\"display:none;\">\n",
              "        \n",
              "  <svg xmlns=\"http://www.w3.org/2000/svg\" height=\"24px\"viewBox=\"0 0 24 24\"\n",
              "       width=\"24px\">\n",
              "    <path d=\"M0 0h24v24H0V0z\" fill=\"none\"/>\n",
              "    <path d=\"M18.56 5.44l.94 2.06.94-2.06 2.06-.94-2.06-.94-.94-2.06-.94 2.06-2.06.94zm-11 1L8.5 8.5l.94-2.06 2.06-.94-2.06-.94L8.5 2.5l-.94 2.06-2.06.94zm10 10l.94 2.06.94-2.06 2.06-.94-2.06-.94-.94-2.06-.94 2.06-2.06.94z\"/><path d=\"M17.41 7.96l-1.37-1.37c-.4-.4-.92-.59-1.43-.59-.52 0-1.04.2-1.43.59L10.3 9.45l-7.72 7.72c-.78.78-.78 2.05 0 2.83L4 21.41c.39.39.9.59 1.41.59.51 0 1.02-.2 1.41-.59l7.78-7.78 2.81-2.81c.8-.78.8-2.07 0-2.86zM5.41 20L4 18.59l7.72-7.72 1.47 1.35L5.41 20z\"/>\n",
              "  </svg>\n",
              "      </button>\n",
              "      \n",
              "  <style>\n",
              "    .colab-df-container {\n",
              "      display:flex;\n",
              "      flex-wrap:wrap;\n",
              "      gap: 12px;\n",
              "    }\n",
              "\n",
              "    .colab-df-convert {\n",
              "      background-color: #E8F0FE;\n",
              "      border: none;\n",
              "      border-radius: 50%;\n",
              "      cursor: pointer;\n",
              "      display: none;\n",
              "      fill: #1967D2;\n",
              "      height: 32px;\n",
              "      padding: 0 0 0 0;\n",
              "      width: 32px;\n",
              "    }\n",
              "\n",
              "    .colab-df-convert:hover {\n",
              "      background-color: #E2EBFA;\n",
              "      box-shadow: 0px 1px 2px rgba(60, 64, 67, 0.3), 0px 1px 3px 1px rgba(60, 64, 67, 0.15);\n",
              "      fill: #174EA6;\n",
              "    }\n",
              "\n",
              "    [theme=dark] .colab-df-convert {\n",
              "      background-color: #3B4455;\n",
              "      fill: #D2E3FC;\n",
              "    }\n",
              "\n",
              "    [theme=dark] .colab-df-convert:hover {\n",
              "      background-color: #434B5C;\n",
              "      box-shadow: 0px 1px 3px 1px rgba(0, 0, 0, 0.15);\n",
              "      filter: drop-shadow(0px 1px 2px rgba(0, 0, 0, 0.3));\n",
              "      fill: #FFFFFF;\n",
              "    }\n",
              "  </style>\n",
              "\n",
              "      <script>\n",
              "        const buttonEl =\n",
              "          document.querySelector('#df-aa5b70ae-7fe6-4934-9718-6e1931fc0013 button.colab-df-convert');\n",
              "        buttonEl.style.display =\n",
              "          google.colab.kernel.accessAllowed ? 'block' : 'none';\n",
              "\n",
              "        async function convertToInteractive(key) {\n",
              "          const element = document.querySelector('#df-aa5b70ae-7fe6-4934-9718-6e1931fc0013');\n",
              "          const dataTable =\n",
              "            await google.colab.kernel.invokeFunction('convertToInteractive',\n",
              "                                                     [key], {});\n",
              "          if (!dataTable) return;\n",
              "\n",
              "          const docLinkHtml = 'Like what you see? Visit the ' +\n",
              "            '<a target=\"_blank\" href=https://colab.research.google.com/notebooks/data_table.ipynb>data table notebook</a>'\n",
              "            + ' to learn more about interactive tables.';\n",
              "          element.innerHTML = '';\n",
              "          dataTable['output_type'] = 'display_data';\n",
              "          await google.colab.output.renderOutput(dataTable, element);\n",
              "          const docLink = document.createElement('div');\n",
              "          docLink.innerHTML = docLinkHtml;\n",
              "          element.appendChild(docLink);\n",
              "        }\n",
              "      </script>\n",
              "    </div>\n",
              "  </div>\n",
              "  "
            ]
          },
          "metadata": {},
          "execution_count": 6
        }
      ]
    },
    {
      "cell_type": "markdown",
      "source": [
        "Можем спокойно удалить 14 строчек, так как никакой уникальной информации не несут"
      ],
      "metadata": {
        "id": "AFvMcCHtqt_O"
      }
    },
    {
      "cell_type": "code",
      "source": [
        "df = df[df['profile_id'].notna()]"
      ],
      "metadata": {
        "id": "tRzU6LE3pVRY"
      },
      "execution_count": 7,
      "outputs": []
    },
    {
      "cell_type": "code",
      "source": [
        "df.info()"
      ],
      "metadata": {
        "colab": {
          "base_uri": "https://localhost:8080/"
        },
        "id": "gPEFc9XMpc8G",
        "outputId": "681e3438-0728-4261-a2c3-876f70c75f8a"
      },
      "execution_count": 8,
      "outputs": [
        {
          "output_type": "stream",
          "name": "stdout",
          "text": [
            "<class 'pandas.core.frame.DataFrame'>\n",
            "Int64Index: 860065 entries, 0 to 860078\n",
            "Data columns (total 16 columns):\n",
            " #   Column                   Non-Null Count   Dtype \n",
            "---  ------                   --------------   ----- \n",
            " 0   profile_id               860065 non-null  object\n",
            " 1   os_version               860065 non-null  object\n",
            " 2   device_manufacturer      860065 non-null  object\n",
            " 3   device_model             860065 non-null  object\n",
            " 4   device_type              860065 non-null  object\n",
            " 5   device_locale            860065 non-null  object\n",
            " 6   event_name               860065 non-null  object\n",
            " 7   event_json               860065 non-null  object\n",
            " 8   event_datetime           860065 non-null  object\n",
            " 9   event_timestamp          860065 non-null  int64 \n",
            " 10  event_receive_datetime   860065 non-null  object\n",
            " 11  event_receive_timestamp  860065 non-null  int64 \n",
            " 12  connection_type          860065 non-null  object\n",
            " 13  operator_name            841186 non-null  object\n",
            " 14  country_iso_code         860065 non-null  object\n",
            " 15  city                     536371 non-null  object\n",
            "dtypes: int64(2), object(14)\n",
            "memory usage: 111.6+ MB\n"
          ]
        }
      ]
    },
    {
      "cell_type": "markdown",
      "source": [
        "Рассмотрим столбец `event_json`, где содержаться json данные "
      ],
      "metadata": {
        "id": "uCtWMlNmq-ua"
      }
    },
    {
      "cell_type": "code",
      "source": [
        "df.event_json[1]"
      ],
      "metadata": {
        "colab": {
          "base_uri": "https://localhost:8080/",
          "height": 88
        },
        "id": "007HfKpEahwe",
        "outputId": "7332be61-f62d-4d84-95b4-0291d69a27aa"
      },
      "execution_count": 9,
      "outputs": [
        {
          "output_type": "execute_result",
          "data": {
            "text/plain": [
              "'{\"ad_type\":\"banner\",\"placement\":\"\",\"view_index\":1,\"session_view_index\":0,\"cur_ticks\":637795729659949790,\"session_length\":722.6512,\"revenue\":0.000510313,\"ads_ltv\":0.488386989518837,\"ecpm_sma\":0.511388599872589,\"normalized_ecpm_sma\":0.511388599872589,\"value\":0.000510313,\"currency\":\"USD\",\"ad_country_code\":\"US\",\"network_name\":\"Google AdMob\",\"ad_unit_id\":\"64c6b1114ea8c1cc\",\"ad_network_placement\":\"ca-app-pub-7511632782617496/8825263691\",\"creativeId\":\"CNa-lL_D5vUCFZrpKAUdU2QBDQ\"}'"
            ],
            "application/vnd.google.colaboratory.intrinsic+json": {
              "type": "string"
            }
          },
          "metadata": {},
          "execution_count": 9
        }
      ]
    },
    {
      "cell_type": "markdown",
      "source": [
        "Превратим json'ы в датафрейм "
      ],
      "metadata": {
        "id": "pF8awwRvssXk"
      }
    },
    {
      "cell_type": "code",
      "source": [
        "df_json = pd.json_normalize(df.event_json.apply(json.loads))"
      ],
      "metadata": {
        "id": "oS4sofJSah0p"
      },
      "execution_count": 10,
      "outputs": []
    },
    {
      "cell_type": "code",
      "source": [
        "df_json.info()"
      ],
      "metadata": {
        "colab": {
          "base_uri": "https://localhost:8080/"
        },
        "id": "TU5QWSrvgiun",
        "outputId": "9f69da74-9f14-4dd1-81b4-ce2be1a71bf3"
      },
      "execution_count": 11,
      "outputs": [
        {
          "output_type": "stream",
          "name": "stdout",
          "text": [
            "<class 'pandas.core.frame.DataFrame'>\n",
            "RangeIndex: 860065 entries, 0 to 860064\n",
            "Data columns (total 17 columns):\n",
            " #   Column                Non-Null Count   Dtype  \n",
            "---  ------                --------------   -----  \n",
            " 0   ad_type               860065 non-null  object \n",
            " 1   placement             860065 non-null  object \n",
            " 2   view_index            860065 non-null  int64  \n",
            " 3   session_view_index    860065 non-null  int64  \n",
            " 4   cur_ticks             860065 non-null  int64  \n",
            " 5   session_length        860065 non-null  float64\n",
            " 6   revenue               860065 non-null  float64\n",
            " 7   ads_ltv               860065 non-null  float64\n",
            " 8   ecpm_sma              860065 non-null  float64\n",
            " 9   normalized_ecpm_sma   860065 non-null  float64\n",
            " 10  value                 860065 non-null  float64\n",
            " 11  currency              860065 non-null  object \n",
            " 12  ad_country_code       860065 non-null  object \n",
            " 13  network_name          860065 non-null  object \n",
            " 14  ad_unit_id            860065 non-null  object \n",
            " 15  ad_network_placement  860065 non-null  object \n",
            " 16  creativeId            860065 non-null  object \n",
            "dtypes: float64(6), int64(3), object(8)\n",
            "memory usage: 111.6+ MB\n"
          ]
        }
      ]
    },
    {
      "cell_type": "code",
      "source": [
        "df_json.head()"
      ],
      "metadata": {
        "colab": {
          "base_uri": "https://localhost:8080/",
          "height": 319
        },
        "id": "g0qE3zosrg0g",
        "outputId": "9dfedb27-684d-4436-8e6a-a6d9d6d7afa3"
      },
      "execution_count": 12,
      "outputs": [
        {
          "output_type": "execute_result",
          "data": {
            "text/plain": [
              "  ad_type   placement  view_index  session_view_index           cur_ticks  \\\n",
              "0  banner                       1                   0  637795729492245130   \n",
              "1  banner                       1                   0  637795729659949790   \n",
              "2  banner                       1                   0  637796515863735930   \n",
              "3     int  next_level           1                   1  637797353426827330   \n",
              "4  banner                       1                   0  637797357392197840   \n",
              "\n",
              "   session_length   revenue   ads_ltv   ecpm_sma  normalized_ecpm_sma  \\\n",
              "0       705.88070  0.000510  0.487877   0.511508             0.511508   \n",
              "1       722.65120  0.000510  0.488387   0.511389             0.511389   \n",
              "2       431.81290  0.002386  0.678479   0.928597             0.928597   \n",
              "3       125.94960  0.013894  0.013894  13.782633            13.893784   \n",
              "4        12.71129  0.006828  0.060571   1.660282             1.660282   \n",
              "\n",
              "      value currency ad_country_code       network_name        ad_unit_id  \\\n",
              "0  0.000510      USD              US       Google AdMob  64c6b1114ea8c1cc   \n",
              "1  0.000510      USD              US       Google AdMob  64c6b1114ea8c1cc   \n",
              "2  0.002386      USD              US  APPLOVIN_EXCHANGE  64c6b1114ea8c1cc   \n",
              "3  0.013894      USD              US           AppLovin  3ab7705b07ebb75f   \n",
              "4  0.006828      USD              US       Google AdMob  64c6b1114ea8c1cc   \n",
              "\n",
              "                     ad_network_placement                  creativeId  \n",
              "0  ca-app-pub-7511632782617496/8825263691  CJ3XirfD5vUCFYPnKAUdG3MOYQ  \n",
              "1  ca-app-pub-7511632782617496/8825263691  CNa-lL_D5vUCFZrpKAUdU2QBDQ  \n",
              "2                          banner_regular                  pandora-58  \n",
              "3                           inter_regular                    13045364  \n",
              "4  ca-app-pub-7511632782617496/6197324251  CMTi5e-h6_UCFUdVwQodt9EIMw  "
            ],
            "text/html": [
              "\n",
              "  <div id=\"df-c6698918-9cd6-43e9-add6-dce996f934d3\">\n",
              "    <div class=\"colab-df-container\">\n",
              "      <div>\n",
              "<style scoped>\n",
              "    .dataframe tbody tr th:only-of-type {\n",
              "        vertical-align: middle;\n",
              "    }\n",
              "\n",
              "    .dataframe tbody tr th {\n",
              "        vertical-align: top;\n",
              "    }\n",
              "\n",
              "    .dataframe thead th {\n",
              "        text-align: right;\n",
              "    }\n",
              "</style>\n",
              "<table border=\"1\" class=\"dataframe\">\n",
              "  <thead>\n",
              "    <tr style=\"text-align: right;\">\n",
              "      <th></th>\n",
              "      <th>ad_type</th>\n",
              "      <th>placement</th>\n",
              "      <th>view_index</th>\n",
              "      <th>session_view_index</th>\n",
              "      <th>cur_ticks</th>\n",
              "      <th>session_length</th>\n",
              "      <th>revenue</th>\n",
              "      <th>ads_ltv</th>\n",
              "      <th>ecpm_sma</th>\n",
              "      <th>normalized_ecpm_sma</th>\n",
              "      <th>value</th>\n",
              "      <th>currency</th>\n",
              "      <th>ad_country_code</th>\n",
              "      <th>network_name</th>\n",
              "      <th>ad_unit_id</th>\n",
              "      <th>ad_network_placement</th>\n",
              "      <th>creativeId</th>\n",
              "    </tr>\n",
              "  </thead>\n",
              "  <tbody>\n",
              "    <tr>\n",
              "      <th>0</th>\n",
              "      <td>banner</td>\n",
              "      <td></td>\n",
              "      <td>1</td>\n",
              "      <td>0</td>\n",
              "      <td>637795729492245130</td>\n",
              "      <td>705.88070</td>\n",
              "      <td>0.000510</td>\n",
              "      <td>0.487877</td>\n",
              "      <td>0.511508</td>\n",
              "      <td>0.511508</td>\n",
              "      <td>0.000510</td>\n",
              "      <td>USD</td>\n",
              "      <td>US</td>\n",
              "      <td>Google AdMob</td>\n",
              "      <td>64c6b1114ea8c1cc</td>\n",
              "      <td>ca-app-pub-7511632782617496/8825263691</td>\n",
              "      <td>CJ3XirfD5vUCFYPnKAUdG3MOYQ</td>\n",
              "    </tr>\n",
              "    <tr>\n",
              "      <th>1</th>\n",
              "      <td>banner</td>\n",
              "      <td></td>\n",
              "      <td>1</td>\n",
              "      <td>0</td>\n",
              "      <td>637795729659949790</td>\n",
              "      <td>722.65120</td>\n",
              "      <td>0.000510</td>\n",
              "      <td>0.488387</td>\n",
              "      <td>0.511389</td>\n",
              "      <td>0.511389</td>\n",
              "      <td>0.000510</td>\n",
              "      <td>USD</td>\n",
              "      <td>US</td>\n",
              "      <td>Google AdMob</td>\n",
              "      <td>64c6b1114ea8c1cc</td>\n",
              "      <td>ca-app-pub-7511632782617496/8825263691</td>\n",
              "      <td>CNa-lL_D5vUCFZrpKAUdU2QBDQ</td>\n",
              "    </tr>\n",
              "    <tr>\n",
              "      <th>2</th>\n",
              "      <td>banner</td>\n",
              "      <td></td>\n",
              "      <td>1</td>\n",
              "      <td>0</td>\n",
              "      <td>637796515863735930</td>\n",
              "      <td>431.81290</td>\n",
              "      <td>0.002386</td>\n",
              "      <td>0.678479</td>\n",
              "      <td>0.928597</td>\n",
              "      <td>0.928597</td>\n",
              "      <td>0.002386</td>\n",
              "      <td>USD</td>\n",
              "      <td>US</td>\n",
              "      <td>APPLOVIN_EXCHANGE</td>\n",
              "      <td>64c6b1114ea8c1cc</td>\n",
              "      <td>banner_regular</td>\n",
              "      <td>pandora-58</td>\n",
              "    </tr>\n",
              "    <tr>\n",
              "      <th>3</th>\n",
              "      <td>int</td>\n",
              "      <td>next_level</td>\n",
              "      <td>1</td>\n",
              "      <td>1</td>\n",
              "      <td>637797353426827330</td>\n",
              "      <td>125.94960</td>\n",
              "      <td>0.013894</td>\n",
              "      <td>0.013894</td>\n",
              "      <td>13.782633</td>\n",
              "      <td>13.893784</td>\n",
              "      <td>0.013894</td>\n",
              "      <td>USD</td>\n",
              "      <td>US</td>\n",
              "      <td>AppLovin</td>\n",
              "      <td>3ab7705b07ebb75f</td>\n",
              "      <td>inter_regular</td>\n",
              "      <td>13045364</td>\n",
              "    </tr>\n",
              "    <tr>\n",
              "      <th>4</th>\n",
              "      <td>banner</td>\n",
              "      <td></td>\n",
              "      <td>1</td>\n",
              "      <td>0</td>\n",
              "      <td>637797357392197840</td>\n",
              "      <td>12.71129</td>\n",
              "      <td>0.006828</td>\n",
              "      <td>0.060571</td>\n",
              "      <td>1.660282</td>\n",
              "      <td>1.660282</td>\n",
              "      <td>0.006828</td>\n",
              "      <td>USD</td>\n",
              "      <td>US</td>\n",
              "      <td>Google AdMob</td>\n",
              "      <td>64c6b1114ea8c1cc</td>\n",
              "      <td>ca-app-pub-7511632782617496/6197324251</td>\n",
              "      <td>CMTi5e-h6_UCFUdVwQodt9EIMw</td>\n",
              "    </tr>\n",
              "  </tbody>\n",
              "</table>\n",
              "</div>\n",
              "      <button class=\"colab-df-convert\" onclick=\"convertToInteractive('df-c6698918-9cd6-43e9-add6-dce996f934d3')\"\n",
              "              title=\"Convert this dataframe to an interactive table.\"\n",
              "              style=\"display:none;\">\n",
              "        \n",
              "  <svg xmlns=\"http://www.w3.org/2000/svg\" height=\"24px\"viewBox=\"0 0 24 24\"\n",
              "       width=\"24px\">\n",
              "    <path d=\"M0 0h24v24H0V0z\" fill=\"none\"/>\n",
              "    <path d=\"M18.56 5.44l.94 2.06.94-2.06 2.06-.94-2.06-.94-.94-2.06-.94 2.06-2.06.94zm-11 1L8.5 8.5l.94-2.06 2.06-.94-2.06-.94L8.5 2.5l-.94 2.06-2.06.94zm10 10l.94 2.06.94-2.06 2.06-.94-2.06-.94-.94-2.06-.94 2.06-2.06.94z\"/><path d=\"M17.41 7.96l-1.37-1.37c-.4-.4-.92-.59-1.43-.59-.52 0-1.04.2-1.43.59L10.3 9.45l-7.72 7.72c-.78.78-.78 2.05 0 2.83L4 21.41c.39.39.9.59 1.41.59.51 0 1.02-.2 1.41-.59l7.78-7.78 2.81-2.81c.8-.78.8-2.07 0-2.86zM5.41 20L4 18.59l7.72-7.72 1.47 1.35L5.41 20z\"/>\n",
              "  </svg>\n",
              "      </button>\n",
              "      \n",
              "  <style>\n",
              "    .colab-df-container {\n",
              "      display:flex;\n",
              "      flex-wrap:wrap;\n",
              "      gap: 12px;\n",
              "    }\n",
              "\n",
              "    .colab-df-convert {\n",
              "      background-color: #E8F0FE;\n",
              "      border: none;\n",
              "      border-radius: 50%;\n",
              "      cursor: pointer;\n",
              "      display: none;\n",
              "      fill: #1967D2;\n",
              "      height: 32px;\n",
              "      padding: 0 0 0 0;\n",
              "      width: 32px;\n",
              "    }\n",
              "\n",
              "    .colab-df-convert:hover {\n",
              "      background-color: #E2EBFA;\n",
              "      box-shadow: 0px 1px 2px rgba(60, 64, 67, 0.3), 0px 1px 3px 1px rgba(60, 64, 67, 0.15);\n",
              "      fill: #174EA6;\n",
              "    }\n",
              "\n",
              "    [theme=dark] .colab-df-convert {\n",
              "      background-color: #3B4455;\n",
              "      fill: #D2E3FC;\n",
              "    }\n",
              "\n",
              "    [theme=dark] .colab-df-convert:hover {\n",
              "      background-color: #434B5C;\n",
              "      box-shadow: 0px 1px 3px 1px rgba(0, 0, 0, 0.15);\n",
              "      filter: drop-shadow(0px 1px 2px rgba(0, 0, 0, 0.3));\n",
              "      fill: #FFFFFF;\n",
              "    }\n",
              "  </style>\n",
              "\n",
              "      <script>\n",
              "        const buttonEl =\n",
              "          document.querySelector('#df-c6698918-9cd6-43e9-add6-dce996f934d3 button.colab-df-convert');\n",
              "        buttonEl.style.display =\n",
              "          google.colab.kernel.accessAllowed ? 'block' : 'none';\n",
              "\n",
              "        async function convertToInteractive(key) {\n",
              "          const element = document.querySelector('#df-c6698918-9cd6-43e9-add6-dce996f934d3');\n",
              "          const dataTable =\n",
              "            await google.colab.kernel.invokeFunction('convertToInteractive',\n",
              "                                                     [key], {});\n",
              "          if (!dataTable) return;\n",
              "\n",
              "          const docLinkHtml = 'Like what you see? Visit the ' +\n",
              "            '<a target=\"_blank\" href=https://colab.research.google.com/notebooks/data_table.ipynb>data table notebook</a>'\n",
              "            + ' to learn more about interactive tables.';\n",
              "          element.innerHTML = '';\n",
              "          dataTable['output_type'] = 'display_data';\n",
              "          await google.colab.output.renderOutput(dataTable, element);\n",
              "          const docLink = document.createElement('div');\n",
              "          docLink.innerHTML = docLinkHtml;\n",
              "          element.appendChild(docLink);\n",
              "        }\n",
              "      </script>\n",
              "    </div>\n",
              "  </div>\n",
              "  "
            ]
          },
          "metadata": {},
          "execution_count": 12
        }
      ]
    },
    {
      "cell_type": "markdown",
      "source": [
        "Объеденим оба датафрейма"
      ],
      "metadata": {
        "id": "9YgUz66Ws3i-"
      }
    },
    {
      "cell_type": "code",
      "source": [
        "full_df = pd.concat([df, df_json], axis=1)"
      ],
      "metadata": {
        "id": "PLNqQ4yCoo8C"
      },
      "execution_count": 13,
      "outputs": []
    },
    {
      "cell_type": "code",
      "source": [
        "full_df.head()"
      ],
      "metadata": {
        "colab": {
          "base_uri": "https://localhost:8080/",
          "height": 382
        },
        "id": "VFaQcrPBoovA",
        "outputId": "abc12b24-9d01-4b1f-91b2-cffd1b7020c1"
      },
      "execution_count": 14,
      "outputs": [
        {
          "output_type": "execute_result",
          "data": {
            "text/plain": [
              "    profile_id os_version device_manufacturer   device_model device_type  \\\n",
              "0  JLjpGzDHBQm         11             Samsung  Galaxy Tab S6      tablet   \n",
              "1  JLjpGzDHBQm         11             Samsung  Galaxy Tab S6      tablet   \n",
              "2  JLkVacrzHY6         11              Google        Pixel 2       phone   \n",
              "3  JMC6wG3cX0f         10             Samsung      Galaxy S9       phone   \n",
              "4  JLzWWTJfi1b         10             Samsung      Galaxy S9       phone   \n",
              "\n",
              "  device_locale    event_name  \\\n",
              "0         en_US  c_ad_revenue   \n",
              "1         en_US  c_ad_revenue   \n",
              "2         en_US  c_ad_revenue   \n",
              "3         en_US  c_ad_revenue   \n",
              "4         en_US  c_ad_revenue   \n",
              "\n",
              "                                          event_json       event_datetime  \\\n",
              "0  {\"ad_type\":\"banner\",\"placement\":\"\",\"view_index...  2022-02-04 20:02:28   \n",
              "1  {\"ad_type\":\"banner\",\"placement\":\"\",\"view_index...  2022-02-04 20:02:45   \n",
              "2  {\"ad_type\":\"banner\",\"placement\":\"\",\"view_index...  2022-02-05 17:53:05   \n",
              "3  {\"ad_type\":\"int\",\"placement\":\"next_level\",\"vie...  2022-02-06 17:09:01   \n",
              "4  {\"ad_type\":\"banner\",\"placement\":\"\",\"view_index...  2022-02-06 17:15:38   \n",
              "\n",
              "   event_timestamp  ...   ads_ltv   ecpm_sma normalized_ecpm_sma     value  \\\n",
              "0     1.643994e+09  ...  0.487877   0.511508            0.511508  0.000510   \n",
              "1     1.643994e+09  ...  0.488387   0.511389            0.511389  0.000510   \n",
              "2     1.644073e+09  ...  0.678479   0.928597            0.928597  0.002386   \n",
              "3     1.644157e+09  ...  0.013894  13.782633           13.893784  0.013894   \n",
              "4     1.644157e+09  ...  0.060571   1.660282            1.660282  0.006828   \n",
              "\n",
              "  currency ad_country_code       network_name        ad_unit_id  \\\n",
              "0      USD              US       Google AdMob  64c6b1114ea8c1cc   \n",
              "1      USD              US       Google AdMob  64c6b1114ea8c1cc   \n",
              "2      USD              US  APPLOVIN_EXCHANGE  64c6b1114ea8c1cc   \n",
              "3      USD              US           AppLovin  3ab7705b07ebb75f   \n",
              "4      USD              US       Google AdMob  64c6b1114ea8c1cc   \n",
              "\n",
              "                     ad_network_placement                  creativeId  \n",
              "0  ca-app-pub-7511632782617496/8825263691  CJ3XirfD5vUCFYPnKAUdG3MOYQ  \n",
              "1  ca-app-pub-7511632782617496/8825263691  CNa-lL_D5vUCFZrpKAUdU2QBDQ  \n",
              "2                          banner_regular                  pandora-58  \n",
              "3                           inter_regular                    13045364  \n",
              "4  ca-app-pub-7511632782617496/6197324251  CMTi5e-h6_UCFUdVwQodt9EIMw  \n",
              "\n",
              "[5 rows x 33 columns]"
            ],
            "text/html": [
              "\n",
              "  <div id=\"df-655ffa4e-1586-4d11-9af1-7cdd05df8623\">\n",
              "    <div class=\"colab-df-container\">\n",
              "      <div>\n",
              "<style scoped>\n",
              "    .dataframe tbody tr th:only-of-type {\n",
              "        vertical-align: middle;\n",
              "    }\n",
              "\n",
              "    .dataframe tbody tr th {\n",
              "        vertical-align: top;\n",
              "    }\n",
              "\n",
              "    .dataframe thead th {\n",
              "        text-align: right;\n",
              "    }\n",
              "</style>\n",
              "<table border=\"1\" class=\"dataframe\">\n",
              "  <thead>\n",
              "    <tr style=\"text-align: right;\">\n",
              "      <th></th>\n",
              "      <th>profile_id</th>\n",
              "      <th>os_version</th>\n",
              "      <th>device_manufacturer</th>\n",
              "      <th>device_model</th>\n",
              "      <th>device_type</th>\n",
              "      <th>device_locale</th>\n",
              "      <th>event_name</th>\n",
              "      <th>event_json</th>\n",
              "      <th>event_datetime</th>\n",
              "      <th>event_timestamp</th>\n",
              "      <th>...</th>\n",
              "      <th>ads_ltv</th>\n",
              "      <th>ecpm_sma</th>\n",
              "      <th>normalized_ecpm_sma</th>\n",
              "      <th>value</th>\n",
              "      <th>currency</th>\n",
              "      <th>ad_country_code</th>\n",
              "      <th>network_name</th>\n",
              "      <th>ad_unit_id</th>\n",
              "      <th>ad_network_placement</th>\n",
              "      <th>creativeId</th>\n",
              "    </tr>\n",
              "  </thead>\n",
              "  <tbody>\n",
              "    <tr>\n",
              "      <th>0</th>\n",
              "      <td>JLjpGzDHBQm</td>\n",
              "      <td>11</td>\n",
              "      <td>Samsung</td>\n",
              "      <td>Galaxy Tab S6</td>\n",
              "      <td>tablet</td>\n",
              "      <td>en_US</td>\n",
              "      <td>c_ad_revenue</td>\n",
              "      <td>{\"ad_type\":\"banner\",\"placement\":\"\",\"view_index...</td>\n",
              "      <td>2022-02-04 20:02:28</td>\n",
              "      <td>1.643994e+09</td>\n",
              "      <td>...</td>\n",
              "      <td>0.487877</td>\n",
              "      <td>0.511508</td>\n",
              "      <td>0.511508</td>\n",
              "      <td>0.000510</td>\n",
              "      <td>USD</td>\n",
              "      <td>US</td>\n",
              "      <td>Google AdMob</td>\n",
              "      <td>64c6b1114ea8c1cc</td>\n",
              "      <td>ca-app-pub-7511632782617496/8825263691</td>\n",
              "      <td>CJ3XirfD5vUCFYPnKAUdG3MOYQ</td>\n",
              "    </tr>\n",
              "    <tr>\n",
              "      <th>1</th>\n",
              "      <td>JLjpGzDHBQm</td>\n",
              "      <td>11</td>\n",
              "      <td>Samsung</td>\n",
              "      <td>Galaxy Tab S6</td>\n",
              "      <td>tablet</td>\n",
              "      <td>en_US</td>\n",
              "      <td>c_ad_revenue</td>\n",
              "      <td>{\"ad_type\":\"banner\",\"placement\":\"\",\"view_index...</td>\n",
              "      <td>2022-02-04 20:02:45</td>\n",
              "      <td>1.643994e+09</td>\n",
              "      <td>...</td>\n",
              "      <td>0.488387</td>\n",
              "      <td>0.511389</td>\n",
              "      <td>0.511389</td>\n",
              "      <td>0.000510</td>\n",
              "      <td>USD</td>\n",
              "      <td>US</td>\n",
              "      <td>Google AdMob</td>\n",
              "      <td>64c6b1114ea8c1cc</td>\n",
              "      <td>ca-app-pub-7511632782617496/8825263691</td>\n",
              "      <td>CNa-lL_D5vUCFZrpKAUdU2QBDQ</td>\n",
              "    </tr>\n",
              "    <tr>\n",
              "      <th>2</th>\n",
              "      <td>JLkVacrzHY6</td>\n",
              "      <td>11</td>\n",
              "      <td>Google</td>\n",
              "      <td>Pixel 2</td>\n",
              "      <td>phone</td>\n",
              "      <td>en_US</td>\n",
              "      <td>c_ad_revenue</td>\n",
              "      <td>{\"ad_type\":\"banner\",\"placement\":\"\",\"view_index...</td>\n",
              "      <td>2022-02-05 17:53:05</td>\n",
              "      <td>1.644073e+09</td>\n",
              "      <td>...</td>\n",
              "      <td>0.678479</td>\n",
              "      <td>0.928597</td>\n",
              "      <td>0.928597</td>\n",
              "      <td>0.002386</td>\n",
              "      <td>USD</td>\n",
              "      <td>US</td>\n",
              "      <td>APPLOVIN_EXCHANGE</td>\n",
              "      <td>64c6b1114ea8c1cc</td>\n",
              "      <td>banner_regular</td>\n",
              "      <td>pandora-58</td>\n",
              "    </tr>\n",
              "    <tr>\n",
              "      <th>3</th>\n",
              "      <td>JMC6wG3cX0f</td>\n",
              "      <td>10</td>\n",
              "      <td>Samsung</td>\n",
              "      <td>Galaxy S9</td>\n",
              "      <td>phone</td>\n",
              "      <td>en_US</td>\n",
              "      <td>c_ad_revenue</td>\n",
              "      <td>{\"ad_type\":\"int\",\"placement\":\"next_level\",\"vie...</td>\n",
              "      <td>2022-02-06 17:09:01</td>\n",
              "      <td>1.644157e+09</td>\n",
              "      <td>...</td>\n",
              "      <td>0.013894</td>\n",
              "      <td>13.782633</td>\n",
              "      <td>13.893784</td>\n",
              "      <td>0.013894</td>\n",
              "      <td>USD</td>\n",
              "      <td>US</td>\n",
              "      <td>AppLovin</td>\n",
              "      <td>3ab7705b07ebb75f</td>\n",
              "      <td>inter_regular</td>\n",
              "      <td>13045364</td>\n",
              "    </tr>\n",
              "    <tr>\n",
              "      <th>4</th>\n",
              "      <td>JLzWWTJfi1b</td>\n",
              "      <td>10</td>\n",
              "      <td>Samsung</td>\n",
              "      <td>Galaxy S9</td>\n",
              "      <td>phone</td>\n",
              "      <td>en_US</td>\n",
              "      <td>c_ad_revenue</td>\n",
              "      <td>{\"ad_type\":\"banner\",\"placement\":\"\",\"view_index...</td>\n",
              "      <td>2022-02-06 17:15:38</td>\n",
              "      <td>1.644157e+09</td>\n",
              "      <td>...</td>\n",
              "      <td>0.060571</td>\n",
              "      <td>1.660282</td>\n",
              "      <td>1.660282</td>\n",
              "      <td>0.006828</td>\n",
              "      <td>USD</td>\n",
              "      <td>US</td>\n",
              "      <td>Google AdMob</td>\n",
              "      <td>64c6b1114ea8c1cc</td>\n",
              "      <td>ca-app-pub-7511632782617496/6197324251</td>\n",
              "      <td>CMTi5e-h6_UCFUdVwQodt9EIMw</td>\n",
              "    </tr>\n",
              "  </tbody>\n",
              "</table>\n",
              "<p>5 rows × 33 columns</p>\n",
              "</div>\n",
              "      <button class=\"colab-df-convert\" onclick=\"convertToInteractive('df-655ffa4e-1586-4d11-9af1-7cdd05df8623')\"\n",
              "              title=\"Convert this dataframe to an interactive table.\"\n",
              "              style=\"display:none;\">\n",
              "        \n",
              "  <svg xmlns=\"http://www.w3.org/2000/svg\" height=\"24px\"viewBox=\"0 0 24 24\"\n",
              "       width=\"24px\">\n",
              "    <path d=\"M0 0h24v24H0V0z\" fill=\"none\"/>\n",
              "    <path d=\"M18.56 5.44l.94 2.06.94-2.06 2.06-.94-2.06-.94-.94-2.06-.94 2.06-2.06.94zm-11 1L8.5 8.5l.94-2.06 2.06-.94-2.06-.94L8.5 2.5l-.94 2.06-2.06.94zm10 10l.94 2.06.94-2.06 2.06-.94-2.06-.94-.94-2.06-.94 2.06-2.06.94z\"/><path d=\"M17.41 7.96l-1.37-1.37c-.4-.4-.92-.59-1.43-.59-.52 0-1.04.2-1.43.59L10.3 9.45l-7.72 7.72c-.78.78-.78 2.05 0 2.83L4 21.41c.39.39.9.59 1.41.59.51 0 1.02-.2 1.41-.59l7.78-7.78 2.81-2.81c.8-.78.8-2.07 0-2.86zM5.41 20L4 18.59l7.72-7.72 1.47 1.35L5.41 20z\"/>\n",
              "  </svg>\n",
              "      </button>\n",
              "      \n",
              "  <style>\n",
              "    .colab-df-container {\n",
              "      display:flex;\n",
              "      flex-wrap:wrap;\n",
              "      gap: 12px;\n",
              "    }\n",
              "\n",
              "    .colab-df-convert {\n",
              "      background-color: #E8F0FE;\n",
              "      border: none;\n",
              "      border-radius: 50%;\n",
              "      cursor: pointer;\n",
              "      display: none;\n",
              "      fill: #1967D2;\n",
              "      height: 32px;\n",
              "      padding: 0 0 0 0;\n",
              "      width: 32px;\n",
              "    }\n",
              "\n",
              "    .colab-df-convert:hover {\n",
              "      background-color: #E2EBFA;\n",
              "      box-shadow: 0px 1px 2px rgba(60, 64, 67, 0.3), 0px 1px 3px 1px rgba(60, 64, 67, 0.15);\n",
              "      fill: #174EA6;\n",
              "    }\n",
              "\n",
              "    [theme=dark] .colab-df-convert {\n",
              "      background-color: #3B4455;\n",
              "      fill: #D2E3FC;\n",
              "    }\n",
              "\n",
              "    [theme=dark] .colab-df-convert:hover {\n",
              "      background-color: #434B5C;\n",
              "      box-shadow: 0px 1px 3px 1px rgba(0, 0, 0, 0.15);\n",
              "      filter: drop-shadow(0px 1px 2px rgba(0, 0, 0, 0.3));\n",
              "      fill: #FFFFFF;\n",
              "    }\n",
              "  </style>\n",
              "\n",
              "      <script>\n",
              "        const buttonEl =\n",
              "          document.querySelector('#df-655ffa4e-1586-4d11-9af1-7cdd05df8623 button.colab-df-convert');\n",
              "        buttonEl.style.display =\n",
              "          google.colab.kernel.accessAllowed ? 'block' : 'none';\n",
              "\n",
              "        async function convertToInteractive(key) {\n",
              "          const element = document.querySelector('#df-655ffa4e-1586-4d11-9af1-7cdd05df8623');\n",
              "          const dataTable =\n",
              "            await google.colab.kernel.invokeFunction('convertToInteractive',\n",
              "                                                     [key], {});\n",
              "          if (!dataTable) return;\n",
              "\n",
              "          const docLinkHtml = 'Like what you see? Visit the ' +\n",
              "            '<a target=\"_blank\" href=https://colab.research.google.com/notebooks/data_table.ipynb>data table notebook</a>'\n",
              "            + ' to learn more about interactive tables.';\n",
              "          element.innerHTML = '';\n",
              "          dataTable['output_type'] = 'display_data';\n",
              "          await google.colab.output.renderOutput(dataTable, element);\n",
              "          const docLink = document.createElement('div');\n",
              "          docLink.innerHTML = docLinkHtml;\n",
              "          element.appendChild(docLink);\n",
              "        }\n",
              "      </script>\n",
              "    </div>\n",
              "  </div>\n",
              "  "
            ]
          },
          "metadata": {},
          "execution_count": 14
        }
      ]
    },
    {
      "cell_type": "code",
      "source": [
        "full_df.info()"
      ],
      "metadata": {
        "colab": {
          "base_uri": "https://localhost:8080/"
        },
        "id": "AzoWoQD0pG4o",
        "outputId": "3b10840a-4879-4f9f-ae14-8ab7cd2cb3d5"
      },
      "execution_count": 15,
      "outputs": [
        {
          "output_type": "stream",
          "name": "stdout",
          "text": [
            "<class 'pandas.core.frame.DataFrame'>\n",
            "Int64Index: 860079 entries, 0 to 860078\n",
            "Data columns (total 33 columns):\n",
            " #   Column                   Non-Null Count   Dtype  \n",
            "---  ------                   --------------   -----  \n",
            " 0   profile_id               860065 non-null  object \n",
            " 1   os_version               860065 non-null  object \n",
            " 2   device_manufacturer      860065 non-null  object \n",
            " 3   device_model             860065 non-null  object \n",
            " 4   device_type              860065 non-null  object \n",
            " 5   device_locale            860065 non-null  object \n",
            " 6   event_name               860065 non-null  object \n",
            " 7   event_json               860065 non-null  object \n",
            " 8   event_datetime           860065 non-null  object \n",
            " 9   event_timestamp          860065 non-null  float64\n",
            " 10  event_receive_datetime   860065 non-null  object \n",
            " 11  event_receive_timestamp  860065 non-null  float64\n",
            " 12  connection_type          860065 non-null  object \n",
            " 13  operator_name            841186 non-null  object \n",
            " 14  country_iso_code         860065 non-null  object \n",
            " 15  city                     536371 non-null  object \n",
            " 16  ad_type                  860065 non-null  object \n",
            " 17  placement                860065 non-null  object \n",
            " 18  view_index               860065 non-null  float64\n",
            " 19  session_view_index       860065 non-null  float64\n",
            " 20  cur_ticks                860065 non-null  float64\n",
            " 21  session_length           860065 non-null  float64\n",
            " 22  revenue                  860065 non-null  float64\n",
            " 23  ads_ltv                  860065 non-null  float64\n",
            " 24  ecpm_sma                 860065 non-null  float64\n",
            " 25  normalized_ecpm_sma      860065 non-null  float64\n",
            " 26  value                    860065 non-null  float64\n",
            " 27  currency                 860065 non-null  object \n",
            " 28  ad_country_code          860065 non-null  object \n",
            " 29  network_name             860065 non-null  object \n",
            " 30  ad_unit_id               860065 non-null  object \n",
            " 31  ad_network_placement     860065 non-null  object \n",
            " 32  creativeId               860065 non-null  object \n",
            "dtypes: float64(11), object(22)\n",
            "memory usage: 223.1+ MB\n"
          ]
        }
      ]
    },
    {
      "cell_type": "markdown",
      "source": [
        "Посмотрим сколько у нас уникальных `profile_id`"
      ],
      "metadata": {
        "id": "iFA9-Zqns-p8"
      }
    },
    {
      "cell_type": "code",
      "source": [
        "full_df.profile_id.value_counts()"
      ],
      "metadata": {
        "colab": {
          "base_uri": "https://localhost:8080/"
        },
        "id": "bNMuV_3e4XW0",
        "outputId": "562cd293-1e88-4c68-b4ed-8183a79ccc6f"
      },
      "execution_count": 16,
      "outputs": [
        {
          "output_type": "execute_result",
          "data": {
            "text/plain": [
              "JL5pmKYe8g7    8486\n",
              "JLTfZhBE0e3    6571\n",
              "JL4p0t068V1    5646\n",
              "JLnrqVfS2Fn    5046\n",
              "JLxjvw18Qg0    4934\n",
              "               ... \n",
              "JLm6svXrHwU       1\n",
              "JLytQqxhsuN       1\n",
              "JLwa1Kxkn6k       1\n",
              "JMEFrO5FntC       1\n",
              "JLgvPJq1sOV       1\n",
              "Name: profile_id, Length: 4226, dtype: int64"
            ]
          },
          "metadata": {},
          "execution_count": 16
        }
      ]
    },
    {
      "cell_type": "markdown",
      "source": [
        "По условию задания eCPM = revenue * 1000"
      ],
      "metadata": {
        "id": "zCV9RhxYtLDS"
      }
    },
    {
      "cell_type": "code",
      "source": [
        "full_df['eCPM'] = full_df.revenue * 1000"
      ],
      "metadata": {
        "id": "--7zmaWqxXwY"
      },
      "execution_count": 17,
      "outputs": []
    },
    {
      "cell_type": "markdown",
      "source": [
        "# 1. Для каждого формата рекламы:\n",
        "\n"
      ],
      "metadata": {
        "id": "t0AUpuL7tWlH"
      }
    },
    {
      "cell_type": "markdown",
      "source": [
        "## a. построить распределение средних eCPM-ов юзеров"
      ],
      "metadata": {
        "id": "v8_U-5ErtX7f"
      }
    },
    {
      "cell_type": "code",
      "source": [
        "A = full_df.groupby(['ad_type', 'profile_id'], as_index=False)\\\n",
        "           .agg({'eCPM': 'mean'})\\\n",
        "           .rename(columns={'eCPM': 'mean_eCPM'})"
      ],
      "metadata": {
        "id": "HaAJBBKOgiiI"
      },
      "execution_count": 18,
      "outputs": []
    },
    {
      "cell_type": "code",
      "source": [
        "A"
      ],
      "metadata": {
        "colab": {
          "base_uri": "https://localhost:8080/",
          "height": 419
        },
        "id": "bbMajcPVkLxT",
        "outputId": "b1be3865-d5ed-4916-e19b-560969fe49e3"
      },
      "execution_count": 19,
      "outputs": [
        {
          "output_type": "execute_result",
          "data": {
            "text/plain": [
              "     ad_type   profile_id   mean_eCPM\n",
              "0     banner  JL00qCZH1HV    3.183940\n",
              "1     banner  JL015rw9vmN    0.929444\n",
              "2     banner  JL01aCdFTJy    0.557475\n",
              "3     banner  JL04ODuw9UP    1.001155\n",
              "4     banner  JL06OWhBYxn    0.041042\n",
              "...      ...          ...         ...\n",
              "8613      rv  JMJxPB37e2u  211.700000\n",
              "8614      rv  JMKB40kW3AD   35.257735\n",
              "8615      rv  JMKEonE8xpy   28.240000\n",
              "8616      rv  JMKLcDUr4ju  223.464935\n",
              "8617      rv  JMKqabS3MkM   35.257735\n",
              "\n",
              "[8618 rows x 3 columns]"
            ],
            "text/html": [
              "\n",
              "  <div id=\"df-77c1ce8d-628f-4d98-bcbd-abcbe8bab689\">\n",
              "    <div class=\"colab-df-container\">\n",
              "      <div>\n",
              "<style scoped>\n",
              "    .dataframe tbody tr th:only-of-type {\n",
              "        vertical-align: middle;\n",
              "    }\n",
              "\n",
              "    .dataframe tbody tr th {\n",
              "        vertical-align: top;\n",
              "    }\n",
              "\n",
              "    .dataframe thead th {\n",
              "        text-align: right;\n",
              "    }\n",
              "</style>\n",
              "<table border=\"1\" class=\"dataframe\">\n",
              "  <thead>\n",
              "    <tr style=\"text-align: right;\">\n",
              "      <th></th>\n",
              "      <th>ad_type</th>\n",
              "      <th>profile_id</th>\n",
              "      <th>mean_eCPM</th>\n",
              "    </tr>\n",
              "  </thead>\n",
              "  <tbody>\n",
              "    <tr>\n",
              "      <th>0</th>\n",
              "      <td>banner</td>\n",
              "      <td>JL00qCZH1HV</td>\n",
              "      <td>3.183940</td>\n",
              "    </tr>\n",
              "    <tr>\n",
              "      <th>1</th>\n",
              "      <td>banner</td>\n",
              "      <td>JL015rw9vmN</td>\n",
              "      <td>0.929444</td>\n",
              "    </tr>\n",
              "    <tr>\n",
              "      <th>2</th>\n",
              "      <td>banner</td>\n",
              "      <td>JL01aCdFTJy</td>\n",
              "      <td>0.557475</td>\n",
              "    </tr>\n",
              "    <tr>\n",
              "      <th>3</th>\n",
              "      <td>banner</td>\n",
              "      <td>JL04ODuw9UP</td>\n",
              "      <td>1.001155</td>\n",
              "    </tr>\n",
              "    <tr>\n",
              "      <th>4</th>\n",
              "      <td>banner</td>\n",
              "      <td>JL06OWhBYxn</td>\n",
              "      <td>0.041042</td>\n",
              "    </tr>\n",
              "    <tr>\n",
              "      <th>...</th>\n",
              "      <td>...</td>\n",
              "      <td>...</td>\n",
              "      <td>...</td>\n",
              "    </tr>\n",
              "    <tr>\n",
              "      <th>8613</th>\n",
              "      <td>rv</td>\n",
              "      <td>JMJxPB37e2u</td>\n",
              "      <td>211.700000</td>\n",
              "    </tr>\n",
              "    <tr>\n",
              "      <th>8614</th>\n",
              "      <td>rv</td>\n",
              "      <td>JMKB40kW3AD</td>\n",
              "      <td>35.257735</td>\n",
              "    </tr>\n",
              "    <tr>\n",
              "      <th>8615</th>\n",
              "      <td>rv</td>\n",
              "      <td>JMKEonE8xpy</td>\n",
              "      <td>28.240000</td>\n",
              "    </tr>\n",
              "    <tr>\n",
              "      <th>8616</th>\n",
              "      <td>rv</td>\n",
              "      <td>JMKLcDUr4ju</td>\n",
              "      <td>223.464935</td>\n",
              "    </tr>\n",
              "    <tr>\n",
              "      <th>8617</th>\n",
              "      <td>rv</td>\n",
              "      <td>JMKqabS3MkM</td>\n",
              "      <td>35.257735</td>\n",
              "    </tr>\n",
              "  </tbody>\n",
              "</table>\n",
              "<p>8618 rows × 3 columns</p>\n",
              "</div>\n",
              "      <button class=\"colab-df-convert\" onclick=\"convertToInteractive('df-77c1ce8d-628f-4d98-bcbd-abcbe8bab689')\"\n",
              "              title=\"Convert this dataframe to an interactive table.\"\n",
              "              style=\"display:none;\">\n",
              "        \n",
              "  <svg xmlns=\"http://www.w3.org/2000/svg\" height=\"24px\"viewBox=\"0 0 24 24\"\n",
              "       width=\"24px\">\n",
              "    <path d=\"M0 0h24v24H0V0z\" fill=\"none\"/>\n",
              "    <path d=\"M18.56 5.44l.94 2.06.94-2.06 2.06-.94-2.06-.94-.94-2.06-.94 2.06-2.06.94zm-11 1L8.5 8.5l.94-2.06 2.06-.94-2.06-.94L8.5 2.5l-.94 2.06-2.06.94zm10 10l.94 2.06.94-2.06 2.06-.94-2.06-.94-.94-2.06-.94 2.06-2.06.94z\"/><path d=\"M17.41 7.96l-1.37-1.37c-.4-.4-.92-.59-1.43-.59-.52 0-1.04.2-1.43.59L10.3 9.45l-7.72 7.72c-.78.78-.78 2.05 0 2.83L4 21.41c.39.39.9.59 1.41.59.51 0 1.02-.2 1.41-.59l7.78-7.78 2.81-2.81c.8-.78.8-2.07 0-2.86zM5.41 20L4 18.59l7.72-7.72 1.47 1.35L5.41 20z\"/>\n",
              "  </svg>\n",
              "      </button>\n",
              "      \n",
              "  <style>\n",
              "    .colab-df-container {\n",
              "      display:flex;\n",
              "      flex-wrap:wrap;\n",
              "      gap: 12px;\n",
              "    }\n",
              "\n",
              "    .colab-df-convert {\n",
              "      background-color: #E8F0FE;\n",
              "      border: none;\n",
              "      border-radius: 50%;\n",
              "      cursor: pointer;\n",
              "      display: none;\n",
              "      fill: #1967D2;\n",
              "      height: 32px;\n",
              "      padding: 0 0 0 0;\n",
              "      width: 32px;\n",
              "    }\n",
              "\n",
              "    .colab-df-convert:hover {\n",
              "      background-color: #E2EBFA;\n",
              "      box-shadow: 0px 1px 2px rgba(60, 64, 67, 0.3), 0px 1px 3px 1px rgba(60, 64, 67, 0.15);\n",
              "      fill: #174EA6;\n",
              "    }\n",
              "\n",
              "    [theme=dark] .colab-df-convert {\n",
              "      background-color: #3B4455;\n",
              "      fill: #D2E3FC;\n",
              "    }\n",
              "\n",
              "    [theme=dark] .colab-df-convert:hover {\n",
              "      background-color: #434B5C;\n",
              "      box-shadow: 0px 1px 3px 1px rgba(0, 0, 0, 0.15);\n",
              "      filter: drop-shadow(0px 1px 2px rgba(0, 0, 0, 0.3));\n",
              "      fill: #FFFFFF;\n",
              "    }\n",
              "  </style>\n",
              "\n",
              "      <script>\n",
              "        const buttonEl =\n",
              "          document.querySelector('#df-77c1ce8d-628f-4d98-bcbd-abcbe8bab689 button.colab-df-convert');\n",
              "        buttonEl.style.display =\n",
              "          google.colab.kernel.accessAllowed ? 'block' : 'none';\n",
              "\n",
              "        async function convertToInteractive(key) {\n",
              "          const element = document.querySelector('#df-77c1ce8d-628f-4d98-bcbd-abcbe8bab689');\n",
              "          const dataTable =\n",
              "            await google.colab.kernel.invokeFunction('convertToInteractive',\n",
              "                                                     [key], {});\n",
              "          if (!dataTable) return;\n",
              "\n",
              "          const docLinkHtml = 'Like what you see? Visit the ' +\n",
              "            '<a target=\"_blank\" href=https://colab.research.google.com/notebooks/data_table.ipynb>data table notebook</a>'\n",
              "            + ' to learn more about interactive tables.';\n",
              "          element.innerHTML = '';\n",
              "          dataTable['output_type'] = 'display_data';\n",
              "          await google.colab.output.renderOutput(dataTable, element);\n",
              "          const docLink = document.createElement('div');\n",
              "          docLink.innerHTML = docLinkHtml;\n",
              "          element.appendChild(docLink);\n",
              "        }\n",
              "      </script>\n",
              "    </div>\n",
              "  </div>\n",
              "  "
            ]
          },
          "metadata": {},
          "execution_count": 19
        }
      ]
    },
    {
      "cell_type": "code",
      "source": [
        "for title, group in A.groupby('ad_type', as_index=False):\n",
        "    group.plot(kind = \"hist\", \n",
        "               legend = True, \n",
        "               title=title, \n",
        "               figsize=(12,8), \n",
        "               bins=40)"
      ],
      "metadata": {
        "colab": {
          "base_uri": "https://localhost:8080/",
          "height": 1000
        },
        "id": "lTGTHwSQLLJB",
        "outputId": "305b33d9-98a1-4812-9707-89bdd2f49c92"
      },
      "execution_count": 47,
      "outputs": [
        {
          "output_type": "display_data",
          "data": {
            "text/plain": [
              "<Figure size 864x576 with 1 Axes>"
            ],
            "image/png": "[encoded data removed]"
          },
          "metadata": {
            "needs_background": "light"
          }
        },
        {
          "output_type": "display_data",
          "data": {
            "text/plain": [
              "<Figure size 864x576 with 1 Axes>"
            ],
            "image/png": "[encoded data removed]"
          },
          "metadata": {
            "needs_background": "light"
          }
        },
        {
          "output_type": "display_data",
          "data": {
            "text/plain": [
              "<Figure size 864x576 with 1 Axes>"
            ],
            "image/png": "[encoded data removed]"
          },
          "metadata": {
            "needs_background": "light"
          }
        }
      ]
    },
    {
      "cell_type": "code",
      "source": [
        "A.groupby(by='ad_type').agg({'mean_eCPM':'sum'}).sort_values(by='mean_eCPM', ascending=False).plot(kind='barh')"
      ],
      "metadata": {
        "colab": {
          "base_uri": "https://localhost:8080/",
          "height": 282
        },
        "id": "MgXkmg5GiJvC",
        "outputId": "828f12f0-e983-4743-ad56-99cfbef5c851"
      },
      "execution_count": 21,
      "outputs": [
        {
          "output_type": "execute_result",
          "data": {
            "text/plain": [
              "<matplotlib.axes._subplots.AxesSubplot at 0x7fc8587b3cd0>"
            ]
          },
          "metadata": {},
          "execution_count": 21
        },
        {
          "output_type": "display_data",
          "data": {
            "text/plain": [
              "<Figure size 432x288 with 1 Axes>"
            ],
            "image/png": "[encoded data removed]"
          },
          "metadata": {
            "needs_background": "light"
          }
        }
      ]
    },
    {
      "cell_type": "markdown",
      "source": [
        "### Резюме\n",
        "- Самый малый доход в среднем от показа рекламы в горизонтальном баннере (banner)\n",
        "\n",
        "- Самый крупный доход в среднем от показа полноэкранной рекламы (int)\n",
        "\n",
        "- Максимальный средний доход можно получить от рекламного видео (rv)\n",
        "\n",
        "- Во всех трех категориях, чаще всего зарабатывают небольшие деньги от рекламы "
      ],
      "metadata": {
        "id": "71_RbGgBVWHu"
      }
    },
    {
      "cell_type": "markdown",
      "source": [
        "## b. отобразить средние eCPM-ы по городам, версиям ОС"
      ],
      "metadata": {
        "id": "Zy_2eFfwftCK"
      }
    },
    {
      "cell_type": "markdown",
      "source": [
        "В этой части задания нам нужен столбец `city`. У него около 300_000 пропусков. \n",
        "\n",
        "Изучив столбец `city`, можем заполненить строковые пропуски(NaN) применив интерполяцию.  "
      ],
      "metadata": {
        "id": "tqPQf1HYXUnn"
      }
    },
    {
      "cell_type": "code",
      "source": [
        "city_nan = full_df.city.isna().sum()\n",
        "print(city_nan)"
      ],
      "metadata": {
        "colab": {
          "base_uri": "https://localhost:8080/"
        },
        "id": "KwF4QdLzaUPo",
        "outputId": "ef643a80-cc0a-4690-c234-7c2a750d05bc"
      },
      "execution_count": 22,
      "outputs": [
        {
          "output_type": "stream",
          "name": "stdout",
          "text": [
            "323708\n"
          ]
        }
      ]
    },
    {
      "cell_type": "code",
      "source": [
        "full_df.city = full_df.city.interpolate(method='pad').to_frame()"
      ],
      "metadata": {
        "id": "f6YOCvemiEfL"
      },
      "execution_count": 23,
      "outputs": []
    },
    {
      "cell_type": "code",
      "source": [
        "full_df.city.isna().sum()"
      ],
      "metadata": {
        "id": "UmsISdN3x3NR",
        "colab": {
          "base_uri": "https://localhost:8080/"
        },
        "outputId": "0dd27853-e087-4e59-9d73-c856e2558cba"
      },
      "execution_count": 24,
      "outputs": [
        {
          "output_type": "execute_result",
          "data": {
            "text/plain": [
              "0"
            ]
          },
          "metadata": {},
          "execution_count": 24
        }
      ]
    },
    {
      "cell_type": "code",
      "source": [
        "B = full_df.groupby(['ad_type', 'city', 'os_version'], as_index=False)\\\n",
        "           .agg({'eCPM': 'mean'})\\\n",
        "           .rename(columns={'eCPM': 'mean_eCPM'})"
      ],
      "metadata": {
        "id": "R18KiwioLK8x"
      },
      "execution_count": 25,
      "outputs": []
    },
    {
      "cell_type": "code",
      "source": [
        "B"
      ],
      "metadata": {
        "id": "DvonM7yGfLZS",
        "colab": {
          "base_uri": "https://localhost:8080/",
          "height": 419
        },
        "outputId": "5f756229-16ef-44f7-a91a-724c5d620339"
      },
      "execution_count": 26,
      "outputs": [
        {
          "output_type": "execute_result",
          "data": {
            "text/plain": [
              "     ad_type        city os_version   mean_eCPM\n",
              "0     banner    Aberdeen         11    0.381013\n",
              "1     banner    Aberdeen         12    0.228904\n",
              "2     banner    Aberdeen      6.0.1    0.088810\n",
              "3     banner     Abilene         10    0.432453\n",
              "4     banner     Abilene         11    0.339131\n",
              "...      ...         ...        ...         ...\n",
              "4801      rv   Ypsilanti         12   80.640000\n",
              "4802      rv       Yukon         11   80.640000\n",
              "4803      rv       Yukon          9   26.344721\n",
              "4804      rv  Zanesville         11  211.700000\n",
              "4805      rv  Zanesville         12   38.521115\n",
              "\n",
              "[4806 rows x 4 columns]"
            ],
            "text/html": [
              "\n",
              "  <div id=\"df-06f983ff-8e1f-43f6-aebe-1c85cea3dbeb\">\n",
              "    <div class=\"colab-df-container\">\n",
              "      <div>\n",
              "<style scoped>\n",
              "    .dataframe tbody tr th:only-of-type {\n",
              "        vertical-align: middle;\n",
              "    }\n",
              "\n",
              "    .dataframe tbody tr th {\n",
              "        vertical-align: top;\n",
              "    }\n",
              "\n",
              "    .dataframe thead th {\n",
              "        text-align: right;\n",
              "    }\n",
              "</style>\n",
              "<table border=\"1\" class=\"dataframe\">\n",
              "  <thead>\n",
              "    <tr style=\"text-align: right;\">\n",
              "      <th></th>\n",
              "      <th>ad_type</th>\n",
              "      <th>city</th>\n",
              "      <th>os_version</th>\n",
              "      <th>mean_eCPM</th>\n",
              "    </tr>\n",
              "  </thead>\n",
              "  <tbody>\n",
              "    <tr>\n",
              "      <th>0</th>\n",
              "      <td>banner</td>\n",
              "      <td>Aberdeen</td>\n",
              "      <td>11</td>\n",
              "      <td>0.381013</td>\n",
              "    </tr>\n",
              "    <tr>\n",
              "      <th>1</th>\n",
              "      <td>banner</td>\n",
              "      <td>Aberdeen</td>\n",
              "      <td>12</td>\n",
              "      <td>0.228904</td>\n",
              "    </tr>\n",
              "    <tr>\n",
              "      <th>2</th>\n",
              "      <td>banner</td>\n",
              "      <td>Aberdeen</td>\n",
              "      <td>6.0.1</td>\n",
              "      <td>0.088810</td>\n",
              "    </tr>\n",
              "    <tr>\n",
              "      <th>3</th>\n",
              "      <td>banner</td>\n",
              "      <td>Abilene</td>\n",
              "      <td>10</td>\n",
              "      <td>0.432453</td>\n",
              "    </tr>\n",
              "    <tr>\n",
              "      <th>4</th>\n",
              "      <td>banner</td>\n",
              "      <td>Abilene</td>\n",
              "      <td>11</td>\n",
              "      <td>0.339131</td>\n",
              "    </tr>\n",
              "    <tr>\n",
              "      <th>...</th>\n",
              "      <td>...</td>\n",
              "      <td>...</td>\n",
              "      <td>...</td>\n",
              "      <td>...</td>\n",
              "    </tr>\n",
              "    <tr>\n",
              "      <th>4801</th>\n",
              "      <td>rv</td>\n",
              "      <td>Ypsilanti</td>\n",
              "      <td>12</td>\n",
              "      <td>80.640000</td>\n",
              "    </tr>\n",
              "    <tr>\n",
              "      <th>4802</th>\n",
              "      <td>rv</td>\n",
              "      <td>Yukon</td>\n",
              "      <td>11</td>\n",
              "      <td>80.640000</td>\n",
              "    </tr>\n",
              "    <tr>\n",
              "      <th>4803</th>\n",
              "      <td>rv</td>\n",
              "      <td>Yukon</td>\n",
              "      <td>9</td>\n",
              "      <td>26.344721</td>\n",
              "    </tr>\n",
              "    <tr>\n",
              "      <th>4804</th>\n",
              "      <td>rv</td>\n",
              "      <td>Zanesville</td>\n",
              "      <td>11</td>\n",
              "      <td>211.700000</td>\n",
              "    </tr>\n",
              "    <tr>\n",
              "      <th>4805</th>\n",
              "      <td>rv</td>\n",
              "      <td>Zanesville</td>\n",
              "      <td>12</td>\n",
              "      <td>38.521115</td>\n",
              "    </tr>\n",
              "  </tbody>\n",
              "</table>\n",
              "<p>4806 rows × 4 columns</p>\n",
              "</div>\n",
              "      <button class=\"colab-df-convert\" onclick=\"convertToInteractive('df-06f983ff-8e1f-43f6-aebe-1c85cea3dbeb')\"\n",
              "              title=\"Convert this dataframe to an interactive table.\"\n",
              "              style=\"display:none;\">\n",
              "        \n",
              "  <svg xmlns=\"http://www.w3.org/2000/svg\" height=\"24px\"viewBox=\"0 0 24 24\"\n",
              "       width=\"24px\">\n",
              "    <path d=\"M0 0h24v24H0V0z\" fill=\"none\"/>\n",
              "    <path d=\"M18.56 5.44l.94 2.06.94-2.06 2.06-.94-2.06-.94-.94-2.06-.94 2.06-2.06.94zm-11 1L8.5 8.5l.94-2.06 2.06-.94-2.06-.94L8.5 2.5l-.94 2.06-2.06.94zm10 10l.94 2.06.94-2.06 2.06-.94-2.06-.94-.94-2.06-.94 2.06-2.06.94z\"/><path d=\"M17.41 7.96l-1.37-1.37c-.4-.4-.92-.59-1.43-.59-.52 0-1.04.2-1.43.59L10.3 9.45l-7.72 7.72c-.78.78-.78 2.05 0 2.83L4 21.41c.39.39.9.59 1.41.59.51 0 1.02-.2 1.41-.59l7.78-7.78 2.81-2.81c.8-.78.8-2.07 0-2.86zM5.41 20L4 18.59l7.72-7.72 1.47 1.35L5.41 20z\"/>\n",
              "  </svg>\n",
              "      </button>\n",
              "      \n",
              "  <style>\n",
              "    .colab-df-container {\n",
              "      display:flex;\n",
              "      flex-wrap:wrap;\n",
              "      gap: 12px;\n",
              "    }\n",
              "\n",
              "    .colab-df-convert {\n",
              "      background-color: #E8F0FE;\n",
              "      border: none;\n",
              "      border-radius: 50%;\n",
              "      cursor: pointer;\n",
              "      display: none;\n",
              "      fill: #1967D2;\n",
              "      height: 32px;\n",
              "      padding: 0 0 0 0;\n",
              "      width: 32px;\n",
              "    }\n",
              "\n",
              "    .colab-df-convert:hover {\n",
              "      background-color: #E2EBFA;\n",
              "      box-shadow: 0px 1px 2px rgba(60, 64, 67, 0.3), 0px 1px 3px 1px rgba(60, 64, 67, 0.15);\n",
              "      fill: #174EA6;\n",
              "    }\n",
              "\n",
              "    [theme=dark] .colab-df-convert {\n",
              "      background-color: #3B4455;\n",
              "      fill: #D2E3FC;\n",
              "    }\n",
              "\n",
              "    [theme=dark] .colab-df-convert:hover {\n",
              "      background-color: #434B5C;\n",
              "      box-shadow: 0px 1px 3px 1px rgba(0, 0, 0, 0.15);\n",
              "      filter: drop-shadow(0px 1px 2px rgba(0, 0, 0, 0.3));\n",
              "      fill: #FFFFFF;\n",
              "    }\n",
              "  </style>\n",
              "\n",
              "      <script>\n",
              "        const buttonEl =\n",
              "          document.querySelector('#df-06f983ff-8e1f-43f6-aebe-1c85cea3dbeb button.colab-df-convert');\n",
              "        buttonEl.style.display =\n",
              "          google.colab.kernel.accessAllowed ? 'block' : 'none';\n",
              "\n",
              "        async function convertToInteractive(key) {\n",
              "          const element = document.querySelector('#df-06f983ff-8e1f-43f6-aebe-1c85cea3dbeb');\n",
              "          const dataTable =\n",
              "            await google.colab.kernel.invokeFunction('convertToInteractive',\n",
              "                                                     [key], {});\n",
              "          if (!dataTable) return;\n",
              "\n",
              "          const docLinkHtml = 'Like what you see? Visit the ' +\n",
              "            '<a target=\"_blank\" href=https://colab.research.google.com/notebooks/data_table.ipynb>data table notebook</a>'\n",
              "            + ' to learn more about interactive tables.';\n",
              "          element.innerHTML = '';\n",
              "          dataTable['output_type'] = 'display_data';\n",
              "          await google.colab.output.renderOutput(dataTable, element);\n",
              "          const docLink = document.createElement('div');\n",
              "          docLink.innerHTML = docLinkHtml;\n",
              "          element.appendChild(docLink);\n",
              "        }\n",
              "      </script>\n",
              "    </div>\n",
              "  </div>\n",
              "  "
            ]
          },
          "metadata": {},
          "execution_count": 26
        }
      ]
    },
    {
      "cell_type": "code",
      "source": [
        "B.groupby(by=['ad_type','city'])\\\n",
        " .agg({'mean_eCPM':'mean'})\\\n",
        " .sort_values(by='mean_eCPM', ascending=False)\\\n",
        " .head(10)\\\n",
        " .plot(kind='barh', title='рис.1 -- средний eCPM, группировка по типу рекламы и названию города')"
      ],
      "metadata": {
        "colab": {
          "base_uri": "https://localhost:8080/",
          "height": 298
        },
        "id": "ol9WPKcMusWz",
        "outputId": "a7b26d4b-92f6-46eb-9eee-891ce4a0f436"
      },
      "execution_count": 27,
      "outputs": [
        {
          "output_type": "execute_result",
          "data": {
            "text/plain": [
              "<matplotlib.axes._subplots.AxesSubplot at 0x7fc8588072d0>"
            ]
          },
          "metadata": {},
          "execution_count": 27
        },
        {
          "output_type": "display_data",
          "data": {
            "text/plain": [
              "<Figure size 432x288 with 1 Axes>"
            ],
            "image/png": "[encoded data removed]"
          },
          "metadata": {
            "needs_background": "light"
          }
        }
      ]
    },
    {
      "cell_type": "code",
      "source": [
        "B.groupby(by=['city'])\\\n",
        " .agg({'mean_eCPM':'mean'})\\\n",
        " .sort_values(by='mean_eCPM', ascending=False)\\\n",
        " .head(10)\\\n",
        " .plot(kind='barh', title='рис.2 -- средний eCPM, группировка по названию города')"
      ],
      "metadata": {
        "colab": {
          "base_uri": "https://localhost:8080/",
          "height": 298
        },
        "id": "lch3kez7usQJ",
        "outputId": "5064cf95-c31e-41ea-b5cb-fdfd9d4805a1"
      },
      "execution_count": 28,
      "outputs": [
        {
          "output_type": "execute_result",
          "data": {
            "text/plain": [
              "<matplotlib.axes._subplots.AxesSubplot at 0x7fc858758ed0>"
            ]
          },
          "metadata": {},
          "execution_count": 28
        },
        {
          "output_type": "display_data",
          "data": {
            "text/plain": [
              "<Figure size 432x288 with 1 Axes>"
            ],
            "image/png": "[encoded data removed]"
          },
          "metadata": {
            "needs_background": "light"
          }
        }
      ]
    },
    {
      "cell_type": "code",
      "source": [
        "B.groupby(by=['ad_type','os_version'])\\\n",
        " .agg({'mean_eCPM':'mean'})\\\n",
        " .sort_values(by='mean_eCPM', ascending=False)\\\n",
        " .head(10)\\\n",
        " .plot(kind='barh', title='рис.3 -- средний eCPM, группировка по типу рекламы и версии ОС')"
      ],
      "metadata": {
        "colab": {
          "base_uri": "https://localhost:8080/",
          "height": 298
        },
        "id": "Nu0PXoeiusJR",
        "outputId": "c4adb1df-68f7-40da-ba86-c819623eaffe"
      },
      "execution_count": 29,
      "outputs": [
        {
          "output_type": "execute_result",
          "data": {
            "text/plain": [
              "<matplotlib.axes._subplots.AxesSubplot at 0x7fc858726210>"
            ]
          },
          "metadata": {},
          "execution_count": 29
        },
        {
          "output_type": "display_data",
          "data": {
            "text/plain": [
              "<Figure size 432x288 with 1 Axes>"
            ],
            "image/png": "[encoded data removed]"
          },
          "metadata": {
            "needs_background": "light"
          }
        }
      ]
    },
    {
      "cell_type": "code",
      "source": [
        "B.groupby(by=['os_version'])\\\n",
        " .agg({'mean_eCPM':'mean'})\\\n",
        " .sort_values(by='mean_eCPM', ascending=False)\\\n",
        " .head(10)\\\n",
        " .plot(kind='barh', title='рис.4 -- средний eCPM, группировка по версии ОС')"
      ],
      "metadata": {
        "colab": {
          "base_uri": "https://localhost:8080/",
          "height": 298
        },
        "id": "DQhaT3peusCv",
        "outputId": "8331bf2f-0eda-4a77-ecfc-aacd8b9a7a04"
      },
      "execution_count": 30,
      "outputs": [
        {
          "output_type": "execute_result",
          "data": {
            "text/plain": [
              "<matplotlib.axes._subplots.AxesSubplot at 0x7fc8586d3a50>"
            ]
          },
          "metadata": {},
          "execution_count": 30
        },
        {
          "output_type": "display_data",
          "data": {
            "text/plain": [
              "<Figure size 432x288 with 1 Axes>"
            ],
            "image/png": "[encoded data removed]"
          },
          "metadata": {
            "needs_background": "light"
          }
        }
      ]
    },
    {
      "cell_type": "markdown",
      "source": [
        "### Резюме \n",
        "\n",
        "- Если сгруппировать по типу реклама и город(рис.1), то выясниться, что средний доход больше всего от рекламы rv из города East Peoria\n",
        "\n",
        "- Если брать группировку по городам(рис.2), то средний доход больше всего из города East Peoria\n",
        "\n",
        "- Если группировать тип рекламы и версия ОС(рис.3), то от rv, версии ОС 7.0\n",
        "\n",
        "- Если группировать только по версии ОС(рис.4), то от версии ОС 12"
      ],
      "metadata": {
        "id": "d9KYqixsv2aE"
      }
    },
    {
      "cell_type": "markdown",
      "source": [
        "## C. отобразить суммарные доходы по городам, версиям ОС"
      ],
      "metadata": {
        "id": "kjR9q3kdv87A"
      }
    },
    {
      "cell_type": "code",
      "source": [
        "C = B.copy()"
      ],
      "metadata": {
        "id": "yGybwvf81-81"
      },
      "execution_count": 31,
      "outputs": []
    },
    {
      "cell_type": "code",
      "source": [
        "B.groupby(by=['ad_type','city'])\\\n",
        " .agg({'mean_eCPM':'sum'})\\\n",
        " .sort_values(by='mean_eCPM', ascending=False)\\\n",
        " .head(10)\\\n",
        " .plot(kind='barh', title='рис.5 -- сумма eCPM, группировка по типу рекламы и названию города')"
      ],
      "metadata": {
        "colab": {
          "base_uri": "https://localhost:8080/",
          "height": 298
        },
        "id": "SN96BLLkd1kZ",
        "outputId": "a5e4c8eb-bf98-4e86-8ac9-3eb5b5ce72f0"
      },
      "execution_count": 32,
      "outputs": [
        {
          "output_type": "execute_result",
          "data": {
            "text/plain": [
              "<matplotlib.axes._subplots.AxesSubplot at 0x7fc8586798d0>"
            ]
          },
          "metadata": {},
          "execution_count": 32
        },
        {
          "output_type": "display_data",
          "data": {
            "text/plain": [
              "<Figure size 432x288 with 1 Axes>"
            ],
            "image/png": "[encoded data removed]"
          },
          "metadata": {
            "needs_background": "light"
          }
        }
      ]
    },
    {
      "cell_type": "code",
      "source": [
        "B.groupby(by=['city'])\\\n",
        " .agg({'mean_eCPM':'sum'})\\\n",
        " .sort_values(by='mean_eCPM', ascending=False)\\\n",
        " .head(10)\\\n",
        " .plot(kind='barh', title='рис.6 -- сумма eCPM, группировка по названию города')"
      ],
      "metadata": {
        "colab": {
          "base_uri": "https://localhost:8080/",
          "height": 298
        },
        "id": "YyY91S4SnHHl",
        "outputId": "628ec696-30d4-4fc9-e403-a0272c14140b"
      },
      "execution_count": 33,
      "outputs": [
        {
          "output_type": "execute_result",
          "data": {
            "text/plain": [
              "<matplotlib.axes._subplots.AxesSubplot at 0x7fc8586f1a90>"
            ]
          },
          "metadata": {},
          "execution_count": 33
        },
        {
          "output_type": "display_data",
          "data": {
            "text/plain": [
              "<Figure size 432x288 with 1 Axes>"
            ],
            "image/png": "[encoded data removed]"
          },
          "metadata": {
            "needs_background": "light"
          }
        }
      ]
    },
    {
      "cell_type": "code",
      "source": [
        "B.groupby(by=['ad_type','os_version'])\\\n",
        " .agg({'mean_eCPM':'sum'})\\\n",
        " .sort_values(by='mean_eCPM', ascending=False)\\\n",
        " .head(10)\\\n",
        " .plot(kind='barh', title='рис.7 -- сумма eCPM, группировка по типу рекламы и версии ОС')"
      ],
      "metadata": {
        "colab": {
          "base_uri": "https://localhost:8080/",
          "height": 298
        },
        "id": "oN4HySgyd1ed",
        "outputId": "8cef224c-c1c1-4414-81a6-ba518e459e65"
      },
      "execution_count": 34,
      "outputs": [
        {
          "output_type": "execute_result",
          "data": {
            "text/plain": [
              "<matplotlib.axes._subplots.AxesSubplot at 0x7fc858781490>"
            ]
          },
          "metadata": {},
          "execution_count": 34
        },
        {
          "output_type": "display_data",
          "data": {
            "text/plain": [
              "<Figure size 432x288 with 1 Axes>"
            ],
            "image/png": "[encoded data removed]"
          },
          "metadata": {
            "needs_background": "light"
          }
        }
      ]
    },
    {
      "cell_type": "code",
      "source": [
        "B.groupby(by=['os_version'])\\\n",
        ".agg({'mean_eCPM':'sum'})\\\n",
        ".sort_values(by='mean_eCPM', ascending=False)\\\n",
        ".head(10)\\\n",
        ".plot(kind='barh', title='рис.8 -- сумма eCPM, группировка по версии ОС')"
      ],
      "metadata": {
        "colab": {
          "base_uri": "https://localhost:8080/",
          "height": 298
        },
        "id": "HZBUzpWVnPyk",
        "outputId": "f2294bcf-a02a-4d87-8700-1ec7176af02f"
      },
      "execution_count": 35,
      "outputs": [
        {
          "output_type": "execute_result",
          "data": {
            "text/plain": [
              "<matplotlib.axes._subplots.AxesSubplot at 0x7fc8587a87d0>"
            ]
          },
          "metadata": {},
          "execution_count": 35
        },
        {
          "output_type": "display_data",
          "data": {
            "text/plain": [
              "<Figure size 432x288 with 1 Axes>"
            ],
            "image/png": "[encoded data removed]"
          },
          "metadata": {
            "needs_background": "light"
          }
        }
      ]
    },
    {
      "cell_type": "markdown",
      "source": [
        "### Резюме \n",
        "\n",
        "- Исходя из графиков(рис. 5 и рис.6 ) суммарного дохода можно сделать вывод, что больше всего дохода приносит показ рекламы rv в городе East Peoria\n",
        "\n",
        "- Суммарный доход по версии ОС(рис.7 и рис.8), демонстрирует, что если ОС новее, то и доход будет больше."
      ],
      "metadata": {
        "id": "NaLQ7zxomEgr"
      }
    },
    {
      "cell_type": "markdown",
      "source": [
        "# 2. Учесть статистическую значимость для п.1b (отобразить, отфильтровать незначимое или хотя бы прокомментировать). Объяснить решение.\n"
      ],
      "metadata": {
        "id": "l-UuDL0r3ONB"
      }
    },
    {
      "cell_type": "code",
      "source": [
        "from scipy import stats\n",
        "\n",
        "\n",
        "t_st, p_val = stats.ttest_1samp(B['mean_eCPM'], popmean=0)\n",
        "print(f't-критерий составил {t_st:.2f}')\n",
        "print(f'Рассчитанный t-критерий дает достигаемый\\\n",
        "уровень значимости (p-value) равный {p_val:.3f}')"
      ],
      "metadata": {
        "colab": {
          "base_uri": "https://localhost:8080/"
        },
        "id": "7TRLLTcAd1Oz",
        "outputId": "1f244912-0227-44ed-e14c-c915602524db"
      },
      "execution_count": 60,
      "outputs": [
        {
          "output_type": "stream",
          "name": "stdout",
          "text": [
            "t-критерий составил 44.26\n",
            "Рассчитанный t-критерий дает достигаемыйуровень значимости (p-value) равный 0.000\n"
          ]
        }
      ]
    },
    {
      "cell_type": "markdown",
      "source": [
        "### Резюме \n",
        "\n",
        "p-value < 0.01 — высоко значимое расхождение с гипотезой"
      ],
      "metadata": {
        "id": "rU4aSNhWHeIA"
      }
    },
    {
      "cell_type": "markdown",
      "source": [
        "# 3. Описать наблюдения и вывод по исследованию.\n",
        "\n",
        "Можем сделать вывод: \n",
        "- rv и int рекламы приносят самый большой доход\n",
        "- Версия ОС влияет на прибыль: чем современнее ОС, тем больше прибыль.\n",
        "- Самый большой доход из города East Peoria\n",
        "- Статистическая значимость не достигается для среднего eCMP,  сгруппированного по городам и версиям ОС"
      ],
      "metadata": {
        "id": "63MCxBOwHwIf"
      }
    },
    {
      "cell_type": "markdown",
      "source": [
        "# 4. Дополнительные (по желанию)"
      ],
      "metadata": {
        "id": "Cj4P8WKfr-wb"
      }
    },
    {
      "cell_type": "markdown",
      "source": [
        "## Какой процент доходов содержит информацию о городе юзера"
      ],
      "metadata": {
        "id": "yCDXkMdUtiGT"
      }
    },
    {
      "cell_type": "code",
      "source": [
        "new_df = pd.read_csv('drive/MyDrive/us events ad_revenue filtered 03.02-07.02.csv')\n",
        "new_df = new_df[new_df['profile_id'].notna()]\n",
        "new_df_json = pd.json_normalize(new_df.event_json.apply(json.loads))\n",
        "new_full_df = pd.concat([new_df, new_df_json], axis=1)"
      ],
      "metadata": {
        "id": "2YPxv-l6uEm-"
      },
      "execution_count": 37,
      "outputs": []
    },
    {
      "cell_type": "code",
      "source": [
        "new_full_df['eCPM'] = new_full_df.revenue * 1000"
      ],
      "metadata": {
        "id": "CkcXlmDluEaD"
      },
      "execution_count": 38,
      "outputs": []
    },
    {
      "cell_type": "code",
      "source": [
        "nan_city = new_full_df[new_full_df['city'].isna()]"
      ],
      "metadata": {
        "id": "9AkdkievuEM3"
      },
      "execution_count": 39,
      "outputs": []
    },
    {
      "cell_type": "code",
      "source": [
        "a = nan_city.eCPM.sum()"
      ],
      "metadata": {
        "id": "4ET5BNTg8H6Z"
      },
      "execution_count": 40,
      "outputs": []
    },
    {
      "cell_type": "code",
      "source": [
        "with_nan_city = new_full_df[~new_full_df['city'].isnull()]"
      ],
      "metadata": {
        "id": "277rsH1PuDyX"
      },
      "execution_count": 41,
      "outputs": []
    },
    {
      "cell_type": "code",
      "source": [
        "b = with_nan_city.eCPM.sum()"
      ],
      "metadata": {
        "id": "CjUWq7V4uDgt"
      },
      "execution_count": 42,
      "outputs": []
    },
    {
      "cell_type": "code",
      "source": [
        "c = b/(a+b) * 100"
      ],
      "metadata": {
        "id": "7fqCVZ1xuDX-"
      },
      "execution_count": 43,
      "outputs": []
    },
    {
      "cell_type": "markdown",
      "source": [
        "### Вывод "
      ],
      "metadata": {
        "id": "WhtwefEmohoP"
      }
    },
    {
      "cell_type": "code",
      "source": [
        "print(f'{c:.2f}% процентов доходов содержит информацию о городе юзера')"
      ],
      "metadata": {
        "colab": {
          "base_uri": "https://localhost:8080/"
        },
        "id": "hR64cN6nuDPZ",
        "outputId": "d4ced082-e7c0-4305-e739-6aa3745e734d"
      },
      "execution_count": 44,
      "outputs": [
        {
          "output_type": "stream",
          "name": "stdout",
          "text": [
            "63.39% процентов доходов содержит информацию о городе юзера\n"
          ]
        }
      ]
    },
    {
      "cell_type": "markdown",
      "source": [
        "## Зависит ли eCPM от времени дня"
      ],
      "metadata": {
        "id": "OCNHpOKBf3nn"
      }
    },
    {
      "cell_type": "markdown",
      "source": [
        "Изучим столбец `event_datetime`"
      ],
      "metadata": {
        "id": "EJwPD0CMwfFT"
      }
    },
    {
      "cell_type": "markdown",
      "source": [
        "Для начала проверим присутсвуют ли Nan значения "
      ],
      "metadata": {
        "id": "BXtI9EQl6nm3"
      }
    },
    {
      "cell_type": "code",
      "source": [
        "new_full_df[new_full_df['event_datetime'].isnull()]"
      ],
      "metadata": {
        "colab": {
          "base_uri": "https://localhost:8080/",
          "height": 661
        },
        "id": "wAGh-lXnvGo2",
        "outputId": "9cf51793-b2d7-415f-995a-de540a351eb4"
      },
      "execution_count": 78,
      "outputs": [
        {
          "output_type": "execute_result",
          "data": {
            "text/plain": [
              "       profile_id os_version device_manufacturer device_model device_type  \\\n",
              "191509        NaN        NaN                 NaN          NaN         NaN   \n",
              "191510        NaN        NaN                 NaN          NaN         NaN   \n",
              "191511        NaN        NaN                 NaN          NaN         NaN   \n",
              "191512        NaN        NaN                 NaN          NaN         NaN   \n",
              "191513        NaN        NaN                 NaN          NaN         NaN   \n",
              "191514        NaN        NaN                 NaN          NaN         NaN   \n",
              "191515        NaN        NaN                 NaN          NaN         NaN   \n",
              "191516        NaN        NaN                 NaN          NaN         NaN   \n",
              "191517        NaN        NaN                 NaN          NaN         NaN   \n",
              "191518        NaN        NaN                 NaN          NaN         NaN   \n",
              "191519        NaN        NaN                 NaN          NaN         NaN   \n",
              "191520        NaN        NaN                 NaN          NaN         NaN   \n",
              "191521        NaN        NaN                 NaN          NaN         NaN   \n",
              "257210        NaN        NaN                 NaN          NaN         NaN   \n",
              "\n",
              "       device_locale event_name event_json event_datetime  event_timestamp  \\\n",
              "191509           NaN        NaN        NaN            NaN              NaN   \n",
              "191510           NaN        NaN        NaN            NaN              NaN   \n",
              "191511           NaN        NaN        NaN            NaN              NaN   \n",
              "191512           NaN        NaN        NaN            NaN              NaN   \n",
              "191513           NaN        NaN        NaN            NaN              NaN   \n",
              "191514           NaN        NaN        NaN            NaN              NaN   \n",
              "191515           NaN        NaN        NaN            NaN              NaN   \n",
              "191516           NaN        NaN        NaN            NaN              NaN   \n",
              "191517           NaN        NaN        NaN            NaN              NaN   \n",
              "191518           NaN        NaN        NaN            NaN              NaN   \n",
              "191519           NaN        NaN        NaN            NaN              NaN   \n",
              "191520           NaN        NaN        NaN            NaN              NaN   \n",
              "191521           NaN        NaN        NaN            NaN              NaN   \n",
              "257210           NaN        NaN        NaN            NaN              NaN   \n",
              "\n",
              "        ...    ecpm_sma  normalized_ecpm_sma     value currency  \\\n",
              "191509  ...  130.469559           131.521729  0.131522      USD   \n",
              "191510  ...    0.412863             0.412863  0.000150      USD   \n",
              "191511  ...    0.496876             0.496876  0.000497      USD   \n",
              "191512  ...    0.496876             0.496876  0.000497      USD   \n",
              "191513  ...    0.496876             0.496876  0.000497      USD   \n",
              "191514  ...    0.474574             0.474574  0.000274      USD   \n",
              "191515  ...    0.442020             0.442020  0.000149      USD   \n",
              "191516  ...  122.613289           124.606995  0.061376      USD   \n",
              "191517  ...    0.496876             0.496876  0.000497      USD   \n",
              "191518  ...    0.386303             0.386303  0.000147      USD   \n",
              "191519  ...    0.357873             0.357873  0.000102      USD   \n",
              "191520  ...    0.332413             0.332413  0.000103      USD   \n",
              "191521  ...    0.328762             0.328762  0.000497      USD   \n",
              "257210  ...    0.652888             0.652888  0.000653      USD   \n",
              "\n",
              "       ad_country_code       network_name        ad_unit_id  \\\n",
              "191509              US           AppLovin  3ab7705b07ebb75f   \n",
              "191510              US  APPLOVIN_EXCHANGE  64c6b1114ea8c1cc   \n",
              "191511              US       Google AdMob  64c6b1114ea8c1cc   \n",
              "191512              US       Google AdMob  64c6b1114ea8c1cc   \n",
              "191513              US       Google AdMob  64c6b1114ea8c1cc   \n",
              "191514              US  APPLOVIN_EXCHANGE  64c6b1114ea8c1cc   \n",
              "191515              US  APPLOVIN_EXCHANGE  64c6b1114ea8c1cc   \n",
              "191516              US           AppLovin  3ab7705b07ebb75f   \n",
              "191517              US       Google AdMob  64c6b1114ea8c1cc   \n",
              "191518              US  APPLOVIN_EXCHANGE  64c6b1114ea8c1cc   \n",
              "191519              US  APPLOVIN_EXCHANGE  64c6b1114ea8c1cc   \n",
              "191520              US  APPLOVIN_EXCHANGE  64c6b1114ea8c1cc   \n",
              "191521              US       Google AdMob  64c6b1114ea8c1cc   \n",
              "257210              US           Facebook  64c6b1114ea8c1cc   \n",
              "\n",
              "                          ad_network_placement  \\\n",
              "191509                           inter_regular   \n",
              "191510                          banner_regular   \n",
              "191511  ca-app-pub-7511632782617496/8825263691   \n",
              "191512  ca-app-pub-7511632782617496/8825263691   \n",
              "191513  ca-app-pub-7511632782617496/8825263691   \n",
              "191514                          banner_regular   \n",
              "191515                          banner_regular   \n",
              "191516                           inter_regular   \n",
              "191517  ca-app-pub-7511632782617496/8825263691   \n",
              "191518                          banner_regular   \n",
              "191519                          banner_regular   \n",
              "191520                          banner_regular   \n",
              "191521  ca-app-pub-7511632782617496/8825263691   \n",
              "257210         524377382067272_528134061691604   \n",
              "\n",
              "                                 creativeId        eCPM  \n",
              "191509                             12748526  131.521729  \n",
              "191510  HXJ3Zvna1d4xR19z:a:PcQzjEwuJuZG6J2V    0.150450  \n",
              "191511           CJOxjLqV6vUCFRY4wQod4BcLkA    0.496876  \n",
              "191512           CPCmvr6V6vUCFYR6wQodW4kIKw    0.496876  \n",
              "191513           CK7Dz8WV6vUCFfRfwQodfhUHsQ    0.496876  \n",
              "191514                 15604182500183877727    0.273854  \n",
              "191515                           CR50534272    0.149035  \n",
              "191516                             13622003   61.376423  \n",
              "191517           CKGKpL2U6vUCFciBywEdcIEKEw    0.496876  \n",
              "191518                              1667925    0.147269  \n",
              "191519  qyvmuhBdndXzlke5:a:ocjfaPwEdMfdasIT    0.102000  \n",
              "191520  MUhlBBCEs8T7Wem9:a:lb7PYDQmyzpPZtdE    0.103275  \n",
              "191521           CLjQuYGW6vUCFcxh7AodSKYKsg    0.496876  \n",
              "257210                  1608684229576675610    0.652888  \n",
              "\n",
              "[14 rows x 34 columns]"
            ],
            "text/html": [
              "\n",
              "  <div id=\"df-9daa19f2-9e5e-4fb2-aea8-718a6ff126e6\">\n",
              "    <div class=\"colab-df-container\">\n",
              "      <div>\n",
              "<style scoped>\n",
              "    .dataframe tbody tr th:only-of-type {\n",
              "        vertical-align: middle;\n",
              "    }\n",
              "\n",
              "    .dataframe tbody tr th {\n",
              "        vertical-align: top;\n",
              "    }\n",
              "\n",
              "    .dataframe thead th {\n",
              "        text-align: right;\n",
              "    }\n",
              "</style>\n",
              "<table border=\"1\" class=\"dataframe\">\n",
              "  <thead>\n",
              "    <tr style=\"text-align: right;\">\n",
              "      <th></th>\n",
              "      <th>profile_id</th>\n",
              "      <th>os_version</th>\n",
              "      <th>device_manufacturer</th>\n",
              "      <th>device_model</th>\n",
              "      <th>device_type</th>\n",
              "      <th>device_locale</th>\n",
              "      <th>event_name</th>\n",
              "      <th>event_json</th>\n",
              "      <th>event_datetime</th>\n",
              "      <th>event_timestamp</th>\n",
              "      <th>...</th>\n",
              "      <th>ecpm_sma</th>\n",
              "      <th>normalized_ecpm_sma</th>\n",
              "      <th>value</th>\n",
              "      <th>currency</th>\n",
              "      <th>ad_country_code</th>\n",
              "      <th>network_name</th>\n",
              "      <th>ad_unit_id</th>\n",
              "      <th>ad_network_placement</th>\n",
              "      <th>creativeId</th>\n",
              "      <th>eCPM</th>\n",
              "    </tr>\n",
              "  </thead>\n",
              "  <tbody>\n",
              "    <tr>\n",
              "      <th>191509</th>\n",
              "      <td>NaN</td>\n",
              "      <td>NaN</td>\n",
              "      <td>NaN</td>\n",
              "      <td>NaN</td>\n",
              "      <td>NaN</td>\n",
              "      <td>NaN</td>\n",
              "      <td>NaN</td>\n",
              "      <td>NaN</td>\n",
              "      <td>NaN</td>\n",
              "      <td>NaN</td>\n",
              "      <td>...</td>\n",
              "      <td>130.469559</td>\n",
              "      <td>131.521729</td>\n",
              "      <td>0.131522</td>\n",
              "      <td>USD</td>\n",
              "      <td>US</td>\n",
              "      <td>AppLovin</td>\n",
              "      <td>3ab7705b07ebb75f</td>\n",
              "      <td>inter_regular</td>\n",
              "      <td>12748526</td>\n",
              "      <td>131.521729</td>\n",
              "    </tr>\n",
              "    <tr>\n",
              "      <th>191510</th>\n",
              "      <td>NaN</td>\n",
              "      <td>NaN</td>\n",
              "      <td>NaN</td>\n",
              "      <td>NaN</td>\n",
              "      <td>NaN</td>\n",
              "      <td>NaN</td>\n",
              "      <td>NaN</td>\n",
              "      <td>NaN</td>\n",
              "      <td>NaN</td>\n",
              "      <td>NaN</td>\n",
              "      <td>...</td>\n",
              "      <td>0.412863</td>\n",
              "      <td>0.412863</td>\n",
              "      <td>0.000150</td>\n",
              "      <td>USD</td>\n",
              "      <td>US</td>\n",
              "      <td>APPLOVIN_EXCHANGE</td>\n",
              "      <td>64c6b1114ea8c1cc</td>\n",
              "      <td>banner_regular</td>\n",
              "      <td>HXJ3Zvna1d4xR19z:a:PcQzjEwuJuZG6J2V</td>\n",
              "      <td>0.150450</td>\n",
              "    </tr>\n",
              "    <tr>\n",
              "      <th>191511</th>\n",
              "      <td>NaN</td>\n",
              "      <td>NaN</td>\n",
              "      <td>NaN</td>\n",
              "      <td>NaN</td>\n",
              "      <td>NaN</td>\n",
              "      <td>NaN</td>\n",
              "      <td>NaN</td>\n",
              "      <td>NaN</td>\n",
              "      <td>NaN</td>\n",
              "      <td>NaN</td>\n",
              "      <td>...</td>\n",
              "      <td>0.496876</td>\n",
              "      <td>0.496876</td>\n",
              "      <td>0.000497</td>\n",
              "      <td>USD</td>\n",
              "      <td>US</td>\n",
              "      <td>Google AdMob</td>\n",
              "      <td>64c6b1114ea8c1cc</td>\n",
              "      <td>ca-app-pub-7511632782617496/8825263691</td>\n",
              "      <td>CJOxjLqV6vUCFRY4wQod4BcLkA</td>\n",
              "      <td>0.496876</td>\n",
              "    </tr>\n",
              "    <tr>\n",
              "      <th>191512</th>\n",
              "      <td>NaN</td>\n",
              "      <td>NaN</td>\n",
              "      <td>NaN</td>\n",
              "      <td>NaN</td>\n",
              "      <td>NaN</td>\n",
              "      <td>NaN</td>\n",
              "      <td>NaN</td>\n",
              "      <td>NaN</td>\n",
              "      <td>NaN</td>\n",
              "      <td>NaN</td>\n",
              "      <td>...</td>\n",
              "      <td>0.496876</td>\n",
              "      <td>0.496876</td>\n",
              "      <td>0.000497</td>\n",
              "      <td>USD</td>\n",
              "      <td>US</td>\n",
              "      <td>Google AdMob</td>\n",
              "      <td>64c6b1114ea8c1cc</td>\n",
              "      <td>ca-app-pub-7511632782617496/8825263691</td>\n",
              "      <td>CPCmvr6V6vUCFYR6wQodW4kIKw</td>\n",
              "      <td>0.496876</td>\n",
              "    </tr>\n",
              "    <tr>\n",
              "      <th>191513</th>\n",
              "      <td>NaN</td>\n",
              "      <td>NaN</td>\n",
              "      <td>NaN</td>\n",
              "      <td>NaN</td>\n",
              "      <td>NaN</td>\n",
              "      <td>NaN</td>\n",
              "      <td>NaN</td>\n",
              "      <td>NaN</td>\n",
              "      <td>NaN</td>\n",
              "      <td>NaN</td>\n",
              "      <td>...</td>\n",
              "      <td>0.496876</td>\n",
              "      <td>0.496876</td>\n",
              "      <td>0.000497</td>\n",
              "      <td>USD</td>\n",
              "      <td>US</td>\n",
              "      <td>Google AdMob</td>\n",
              "      <td>64c6b1114ea8c1cc</td>\n",
              "      <td>ca-app-pub-7511632782617496/8825263691</td>\n",
              "      <td>CK7Dz8WV6vUCFfRfwQodfhUHsQ</td>\n",
              "      <td>0.496876</td>\n",
              "    </tr>\n",
              "    <tr>\n",
              "      <th>191514</th>\n",
              "      <td>NaN</td>\n",
              "      <td>NaN</td>\n",
              "      <td>NaN</td>\n",
              "      <td>NaN</td>\n",
              "      <td>NaN</td>\n",
              "      <td>NaN</td>\n",
              "      <td>NaN</td>\n",
              "      <td>NaN</td>\n",
              "      <td>NaN</td>\n",
              "      <td>NaN</td>\n",
              "      <td>...</td>\n",
              "      <td>0.474574</td>\n",
              "      <td>0.474574</td>\n",
              "      <td>0.000274</td>\n",
              "      <td>USD</td>\n",
              "      <td>US</td>\n",
              "      <td>APPLOVIN_EXCHANGE</td>\n",
              "      <td>64c6b1114ea8c1cc</td>\n",
              "      <td>banner_regular</td>\n",
              "      <td>15604182500183877727</td>\n",
              "      <td>0.273854</td>\n",
              "    </tr>\n",
              "    <tr>\n",
              "      <th>191515</th>\n",
              "      <td>NaN</td>\n",
              "      <td>NaN</td>\n",
              "      <td>NaN</td>\n",
              "      <td>NaN</td>\n",
              "      <td>NaN</td>\n",
              "      <td>NaN</td>\n",
              "      <td>NaN</td>\n",
              "      <td>NaN</td>\n",
              "      <td>NaN</td>\n",
              "      <td>NaN</td>\n",
              "      <td>...</td>\n",
              "      <td>0.442020</td>\n",
              "      <td>0.442020</td>\n",
              "      <td>0.000149</td>\n",
              "      <td>USD</td>\n",
              "      <td>US</td>\n",
              "      <td>APPLOVIN_EXCHANGE</td>\n",
              "      <td>64c6b1114ea8c1cc</td>\n",
              "      <td>banner_regular</td>\n",
              "      <td>CR50534272</td>\n",
              "      <td>0.149035</td>\n",
              "    </tr>\n",
              "    <tr>\n",
              "      <th>191516</th>\n",
              "      <td>NaN</td>\n",
              "      <td>NaN</td>\n",
              "      <td>NaN</td>\n",
              "      <td>NaN</td>\n",
              "      <td>NaN</td>\n",
              "      <td>NaN</td>\n",
              "      <td>NaN</td>\n",
              "      <td>NaN</td>\n",
              "      <td>NaN</td>\n",
              "      <td>NaN</td>\n",
              "      <td>...</td>\n",
              "      <td>122.613289</td>\n",
              "      <td>124.606995</td>\n",
              "      <td>0.061376</td>\n",
              "      <td>USD</td>\n",
              "      <td>US</td>\n",
              "      <td>AppLovin</td>\n",
              "      <td>3ab7705b07ebb75f</td>\n",
              "      <td>inter_regular</td>\n",
              "      <td>13622003</td>\n",
              "      <td>61.376423</td>\n",
              "    </tr>\n",
              "    <tr>\n",
              "      <th>191517</th>\n",
              "      <td>NaN</td>\n",
              "      <td>NaN</td>\n",
              "      <td>NaN</td>\n",
              "      <td>NaN</td>\n",
              "      <td>NaN</td>\n",
              "      <td>NaN</td>\n",
              "      <td>NaN</td>\n",
              "      <td>NaN</td>\n",
              "      <td>NaN</td>\n",
              "      <td>NaN</td>\n",
              "      <td>...</td>\n",
              "      <td>0.496876</td>\n",
              "      <td>0.496876</td>\n",
              "      <td>0.000497</td>\n",
              "      <td>USD</td>\n",
              "      <td>US</td>\n",
              "      <td>Google AdMob</td>\n",
              "      <td>64c6b1114ea8c1cc</td>\n",
              "      <td>ca-app-pub-7511632782617496/8825263691</td>\n",
              "      <td>CKGKpL2U6vUCFciBywEdcIEKEw</td>\n",
              "      <td>0.496876</td>\n",
              "    </tr>\n",
              "    <tr>\n",
              "      <th>191518</th>\n",
              "      <td>NaN</td>\n",
              "      <td>NaN</td>\n",
              "      <td>NaN</td>\n",
              "      <td>NaN</td>\n",
              "      <td>NaN</td>\n",
              "      <td>NaN</td>\n",
              "      <td>NaN</td>\n",
              "      <td>NaN</td>\n",
              "      <td>NaN</td>\n",
              "      <td>NaN</td>\n",
              "      <td>...</td>\n",
              "      <td>0.386303</td>\n",
              "      <td>0.386303</td>\n",
              "      <td>0.000147</td>\n",
              "      <td>USD</td>\n",
              "      <td>US</td>\n",
              "      <td>APPLOVIN_EXCHANGE</td>\n",
              "      <td>64c6b1114ea8c1cc</td>\n",
              "      <td>banner_regular</td>\n",
              "      <td>1667925</td>\n",
              "      <td>0.147269</td>\n",
              "    </tr>\n",
              "    <tr>\n",
              "      <th>191519</th>\n",
              "      <td>NaN</td>\n",
              "      <td>NaN</td>\n",
              "      <td>NaN</td>\n",
              "      <td>NaN</td>\n",
              "      <td>NaN</td>\n",
              "      <td>NaN</td>\n",
              "      <td>NaN</td>\n",
              "      <td>NaN</td>\n",
              "      <td>NaN</td>\n",
              "      <td>NaN</td>\n",
              "      <td>...</td>\n",
              "      <td>0.357873</td>\n",
              "      <td>0.357873</td>\n",
              "      <td>0.000102</td>\n",
              "      <td>USD</td>\n",
              "      <td>US</td>\n",
              "      <td>APPLOVIN_EXCHANGE</td>\n",
              "      <td>64c6b1114ea8c1cc</td>\n",
              "      <td>banner_regular</td>\n",
              "      <td>qyvmuhBdndXzlke5:a:ocjfaPwEdMfdasIT</td>\n",
              "      <td>0.102000</td>\n",
              "    </tr>\n",
              "    <tr>\n",
              "      <th>191520</th>\n",
              "      <td>NaN</td>\n",
              "      <td>NaN</td>\n",
              "      <td>NaN</td>\n",
              "      <td>NaN</td>\n",
              "      <td>NaN</td>\n",
              "      <td>NaN</td>\n",
              "      <td>NaN</td>\n",
              "      <td>NaN</td>\n",
              "      <td>NaN</td>\n",
              "      <td>NaN</td>\n",
              "      <td>...</td>\n",
              "      <td>0.332413</td>\n",
              "      <td>0.332413</td>\n",
              "      <td>0.000103</td>\n",
              "      <td>USD</td>\n",
              "      <td>US</td>\n",
              "      <td>APPLOVIN_EXCHANGE</td>\n",
              "      <td>64c6b1114ea8c1cc</td>\n",
              "      <td>banner_regular</td>\n",
              "      <td>MUhlBBCEs8T7Wem9:a:lb7PYDQmyzpPZtdE</td>\n",
              "      <td>0.103275</td>\n",
              "    </tr>\n",
              "    <tr>\n",
              "      <th>191521</th>\n",
              "      <td>NaN</td>\n",
              "      <td>NaN</td>\n",
              "      <td>NaN</td>\n",
              "      <td>NaN</td>\n",
              "      <td>NaN</td>\n",
              "      <td>NaN</td>\n",
              "      <td>NaN</td>\n",
              "      <td>NaN</td>\n",
              "      <td>NaN</td>\n",
              "      <td>NaN</td>\n",
              "      <td>...</td>\n",
              "      <td>0.328762</td>\n",
              "      <td>0.328762</td>\n",
              "      <td>0.000497</td>\n",
              "      <td>USD</td>\n",
              "      <td>US</td>\n",
              "      <td>Google AdMob</td>\n",
              "      <td>64c6b1114ea8c1cc</td>\n",
              "      <td>ca-app-pub-7511632782617496/8825263691</td>\n",
              "      <td>CLjQuYGW6vUCFcxh7AodSKYKsg</td>\n",
              "      <td>0.496876</td>\n",
              "    </tr>\n",
              "    <tr>\n",
              "      <th>257210</th>\n",
              "      <td>NaN</td>\n",
              "      <td>NaN</td>\n",
              "      <td>NaN</td>\n",
              "      <td>NaN</td>\n",
              "      <td>NaN</td>\n",
              "      <td>NaN</td>\n",
              "      <td>NaN</td>\n",
              "      <td>NaN</td>\n",
              "      <td>NaN</td>\n",
              "      <td>NaN</td>\n",
              "      <td>...</td>\n",
              "      <td>0.652888</td>\n",
              "      <td>0.652888</td>\n",
              "      <td>0.000653</td>\n",
              "      <td>USD</td>\n",
              "      <td>US</td>\n",
              "      <td>Facebook</td>\n",
              "      <td>64c6b1114ea8c1cc</td>\n",
              "      <td>524377382067272_528134061691604</td>\n",
              "      <td>1608684229576675610</td>\n",
              "      <td>0.652888</td>\n",
              "    </tr>\n",
              "  </tbody>\n",
              "</table>\n",
              "<p>14 rows × 34 columns</p>\n",
              "</div>\n",
              "      <button class=\"colab-df-convert\" onclick=\"convertToInteractive('df-9daa19f2-9e5e-4fb2-aea8-718a6ff126e6')\"\n",
              "              title=\"Convert this dataframe to an interactive table.\"\n",
              "              style=\"display:none;\">\n",
              "        \n",
              "  <svg xmlns=\"http://www.w3.org/2000/svg\" height=\"24px\"viewBox=\"0 0 24 24\"\n",
              "       width=\"24px\">\n",
              "    <path d=\"M0 0h24v24H0V0z\" fill=\"none\"/>\n",
              "    <path d=\"M18.56 5.44l.94 2.06.94-2.06 2.06-.94-2.06-.94-.94-2.06-.94 2.06-2.06.94zm-11 1L8.5 8.5l.94-2.06 2.06-.94-2.06-.94L8.5 2.5l-.94 2.06-2.06.94zm10 10l.94 2.06.94-2.06 2.06-.94-2.06-.94-.94-2.06-.94 2.06-2.06.94z\"/><path d=\"M17.41 7.96l-1.37-1.37c-.4-.4-.92-.59-1.43-.59-.52 0-1.04.2-1.43.59L10.3 9.45l-7.72 7.72c-.78.78-.78 2.05 0 2.83L4 21.41c.39.39.9.59 1.41.59.51 0 1.02-.2 1.41-.59l7.78-7.78 2.81-2.81c.8-.78.8-2.07 0-2.86zM5.41 20L4 18.59l7.72-7.72 1.47 1.35L5.41 20z\"/>\n",
              "  </svg>\n",
              "      </button>\n",
              "      \n",
              "  <style>\n",
              "    .colab-df-container {\n",
              "      display:flex;\n",
              "      flex-wrap:wrap;\n",
              "      gap: 12px;\n",
              "    }\n",
              "\n",
              "    .colab-df-convert {\n",
              "      background-color: #E8F0FE;\n",
              "      border: none;\n",
              "      border-radius: 50%;\n",
              "      cursor: pointer;\n",
              "      display: none;\n",
              "      fill: #1967D2;\n",
              "      height: 32px;\n",
              "      padding: 0 0 0 0;\n",
              "      width: 32px;\n",
              "    }\n",
              "\n",
              "    .colab-df-convert:hover {\n",
              "      background-color: #E2EBFA;\n",
              "      box-shadow: 0px 1px 2px rgba(60, 64, 67, 0.3), 0px 1px 3px 1px rgba(60, 64, 67, 0.15);\n",
              "      fill: #174EA6;\n",
              "    }\n",
              "\n",
              "    [theme=dark] .colab-df-convert {\n",
              "      background-color: #3B4455;\n",
              "      fill: #D2E3FC;\n",
              "    }\n",
              "\n",
              "    [theme=dark] .colab-df-convert:hover {\n",
              "      background-color: #434B5C;\n",
              "      box-shadow: 0px 1px 3px 1px rgba(0, 0, 0, 0.15);\n",
              "      filter: drop-shadow(0px 1px 2px rgba(0, 0, 0, 0.3));\n",
              "      fill: #FFFFFF;\n",
              "    }\n",
              "  </style>\n",
              "\n",
              "      <script>\n",
              "        const buttonEl =\n",
              "          document.querySelector('#df-9daa19f2-9e5e-4fb2-aea8-718a6ff126e6 button.colab-df-convert');\n",
              "        buttonEl.style.display =\n",
              "          google.colab.kernel.accessAllowed ? 'block' : 'none';\n",
              "\n",
              "        async function convertToInteractive(key) {\n",
              "          const element = document.querySelector('#df-9daa19f2-9e5e-4fb2-aea8-718a6ff126e6');\n",
              "          const dataTable =\n",
              "            await google.colab.kernel.invokeFunction('convertToInteractive',\n",
              "                                                     [key], {});\n",
              "          if (!dataTable) return;\n",
              "\n",
              "          const docLinkHtml = 'Like what you see? Visit the ' +\n",
              "            '<a target=\"_blank\" href=https://colab.research.google.com/notebooks/data_table.ipynb>data table notebook</a>'\n",
              "            + ' to learn more about interactive tables.';\n",
              "          element.innerHTML = '';\n",
              "          dataTable['output_type'] = 'display_data';\n",
              "          await google.colab.output.renderOutput(dataTable, element);\n",
              "          const docLink = document.createElement('div');\n",
              "          docLink.innerHTML = docLinkHtml;\n",
              "          element.appendChild(docLink);\n",
              "        }\n",
              "      </script>\n",
              "    </div>\n",
              "  </div>\n",
              "  "
            ]
          },
          "metadata": {},
          "execution_count": 78
        }
      ]
    },
    {
      "cell_type": "markdown",
      "source": [
        "Удалим строки с Na, так как их очень мало, всего 14 строк"
      ],
      "metadata": {
        "id": "Br0qKTZY63_H"
      }
    },
    {
      "cell_type": "code",
      "source": [
        "new_full_df = new_full_df[new_full_df['event_datetime'].notna()]"
      ],
      "metadata": {
        "id": "eJw_gDJZwPTk"
      },
      "execution_count": 81,
      "outputs": []
    },
    {
      "cell_type": "markdown",
      "source": [
        "Проверка, остались ли Nan"
      ],
      "metadata": {
        "id": "uuVscxn16_zr"
      }
    },
    {
      "cell_type": "code",
      "source": [
        "new_full_df['event_datetime'].isna().sum()"
      ],
      "metadata": {
        "colab": {
          "base_uri": "https://localhost:8080/"
        },
        "id": "UBiBw16iwxry",
        "outputId": "7225d4fb-b632-4e77-e399-158237ef93d4"
      },
      "execution_count": 82,
      "outputs": [
        {
          "output_type": "execute_result",
          "data": {
            "text/plain": [
              "0"
            ]
          },
          "metadata": {},
          "execution_count": 82
        }
      ]
    },
    {
      "cell_type": "markdown",
      "source": [
        "Работа с datetime"
      ],
      "metadata": {
        "id": "M354YZg27IGk"
      }
    },
    {
      "cell_type": "code",
      "source": [
        "from datetime import datetime \n",
        "\n",
        "\n",
        "# переведем в формат datetime\n",
        "new_full_df['DateTime'] = [datetime.strptime(d, \"%Y-%m-%d %H:%M:%S\")\\\n",
        "                           for d in new_full_df[\"event_datetime\"].astype('str')]\n",
        "\n",
        "# извлечем время\n",
        "new_full_df['Time'] = [datetime.time(d) for d in new_full_df['DateTime']] \n",
        "\n",
        "# переведем время в секунды\n",
        "new_full_df['Seconds'] = [(t.hour * 60 + t.minute) * 60 + t.second\\\n",
        "                          for t in new_full_df['Time'] ]"
      ],
      "metadata": {
        "id": "4fa_FwT3rm47"
      },
      "execution_count": 124,
      "outputs": []
    },
    {
      "cell_type": "markdown",
      "source": [
        "Визуализация корреляции"
      ],
      "metadata": {
        "id": "mIw8rZ98k4cS"
      }
    },
    {
      "cell_type": "code",
      "source": [
        "xs = new_full_df['eCPM']\n",
        "ys = new_full_df['Seconds'].apply(np.log)\n",
        "pd.DataFrame(np.array([xs,ys]).T).plot.scatter(0, 1, s=10, grid=True)\n",
        "plt.xlabel('eCPM')\n",
        "plt.ylabel('Логарифмическое время в секундах')\n",
        "plt.show()"
      ],
      "metadata": {
        "colab": {
          "base_uri": "https://localhost:8080/",
          "height": 279
        },
        "id": "7gWoPI6skzG0",
        "outputId": "98f538e7-50e6-4e92-b049-75513ae30a0f"
      },
      "execution_count": 118,
      "outputs": [
        {
          "output_type": "display_data",
          "data": {
            "text/plain": [
              "<Figure size 432x288 with 1 Axes>"
            ],
            "image/png": "[encoded data removed]"
          },
          "metadata": {
            "needs_background": "light"
          }
        }
      ]
    },
    {
      "cell_type": "markdown",
      "source": [
        "Что бы выявить зависимость между двумя переменными так же можно воспользоваться коэффициентом корреляции (Корреляция Пирсона)."
      ],
      "metadata": {
        "id": "RJGpwAKhiTy5"
      }
    },
    {
      "cell_type": "code",
      "source": [
        "r = new_full_df['eCPM'].corr(new_full_df['Seconds'])"
      ],
      "metadata": {
        "id": "2PR__DtquDGv"
      },
      "execution_count": 120,
      "outputs": []
    },
    {
      "cell_type": "markdown",
      "source": [
        "### Вывод"
      ],
      "metadata": {
        "id": "zBIpIy5Wom5A"
      }
    },
    {
      "cell_type": "code",
      "source": [
        "print(f'Получим ответ r={r:.2f}, который количественно выражает слабую, отрицательную корреляцию,\\n\\\n",
        "уже наблюдавшуюся нами на точечном графике')"
      ],
      "metadata": {
        "colab": {
          "base_uri": "https://localhost:8080/"
        },
        "id": "E4UTlYdFuC99",
        "outputId": "4015f7cd-cf7d-4b1b-d5b4-69d4f528a4f0"
      },
      "execution_count": 121,
      "outputs": [
        {
          "output_type": "stream",
          "name": "stdout",
          "text": [
            "Получим ответ r=0.01, который количественно выражает слабую, отрицательную корреляцию,\n",
            "уже наблюдавшуюся нами на точечном графике\n"
          ]
        }
      ]
    }
  ]
}